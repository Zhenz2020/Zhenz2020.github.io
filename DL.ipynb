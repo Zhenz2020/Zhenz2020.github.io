{
  "cells": [
    {
      "cell_type": "code",
      "execution_count": null,
      "metadata": {
        "colab": {
          "base_uri": "https://localhost:8080/"
        },
        "id": "RnRNR_NsrDoU",
        "outputId": "a1409390-1270-414f-b95e-e4dd37d4a5bb"
      },
      "outputs": [
        {
          "output_type": "stream",
          "name": "stderr",
          "text": [
            "replace ngrok? [y]es, [n]o, [A]ll, [N]one, [r]ename:  NULL\n",
            "(EOF or read error, treating as \"[N]one\" ...)\n"
          ]
        }
      ],
      "source": [
        "#@title  <-- Run Me: (Hidden) Installing Spark\n",
        "%%bash \n",
        "\n",
        "## Setup Spark on Colab\n",
        "pip install -q pyspark\n",
        "apt-get -qq install -y openjdk-8-jdk-headless\n",
        "pip install -q elephas\n",
        "\n",
        "## Setup port-forwarding\n",
        "\n",
        "# Download ngrok\n",
        "wget -q https://bin.equinox.io/c/4VmDzA7iaHb/ngrok-stable-linux-amd64.zip\n",
        "# Unload ngrok\n",
        "unzip -q ngrok-stable-linux-amd64.zip"
      ]
    },
    {
      "cell_type": "code",
      "execution_count": null,
      "metadata": {
        "id": "ueBYU3_irOnR"
      },
      "outputs": [],
      "source": [
        "#@title  <-- Run Me: (Hidden) Environment Variable Setup\n",
        "import os\n",
        "os.environ[\"JAVA_HOME\"] = \"/usr/lib/jvm/java-8-openjdk-amd64\""
      ]
    },
    {
      "cell_type": "code",
      "execution_count": null,
      "metadata": {
        "id": "leT3pJXqrQ5Y"
      },
      "outputs": [],
      "source": [
        "import pyspark \n",
        "from pyspark.sql import *\n",
        "from pyspark.sql.functions import *\n",
        "from pyspark import SparkContext, SparkConf\n",
        "\n",
        "# Set configuration scope to be local and use port 4050\n",
        "config_scope = SparkConf().set(\"spark.ui.port\", \"4050\")\n",
        "\n",
        "# Create the connection to a Spark cluster\n",
        "sc = pyspark.SparkContext(conf = config_scope)\n",
        "\n",
        "# Create a session to programmatically build Spark RDD, DataFrame and DataSet\n",
        "spark = SparkSession.builder.getOrCreate()"
      ]
    },
    {
      "cell_type": "code",
      "execution_count": null,
      "metadata": {
        "colab": {
          "base_uri": "https://localhost:8080/"
        },
        "id": "U5-j1MbnrUE-",
        "outputId": "be8366d0-0263-46d0-d1d8-b1ec12c99843"
      },
      "outputs": [
        {
          "output_type": "stream",
          "name": "stdout",
          "text": [
            "python: 3.7.13 (default, Apr 24 2022, 01:04:09) \n",
            "[GCC 7.5.0]\n",
            "pyspark: 3.2.0\n",
            "pandas: 1.3.5\n",
            "NumPy: 1.21.6\n",
            "Notebook is on Google CoLab\n"
          ]
        }
      ],
      "source": [
        "#@title (Hidden) Diagnostic Check\n",
        "import os\n",
        "import sys\n",
        "import pandas as pd\n",
        "import numpy as np\n",
        "\n",
        "print(f\"python: {sys.version}\")\n",
        "print(f\"pyspark: {sc.version}\")\n",
        "print(f\"pandas: {pd.__version__}\")\n",
        "print(f\"NumPy: {np.__version__}\")\n",
        "\n",
        "try:\n",
        "  from google.colab import drive\n",
        "  is_google_colab = True\n",
        "\n",
        "  print(\"Notebook is on Google CoLab\")\n",
        "except:\n",
        "  is_google_colab = False\n",
        "  print(\"Notebook is being run locally or through another source.\")\n"
      ]
    },
    {
      "cell_type": "code",
      "execution_count": null,
      "metadata": {
        "colab": {
          "base_uri": "https://localhost:8080/",
          "height": 357
        },
        "id": "xkYn8sWorXP9",
        "outputId": "dbb1831f-f718-475e-f402-f286b3dfb3f9"
      },
      "outputs": [
        {
          "output_type": "error",
          "ename": "ModuleNotFoundError",
          "evalue": "ignored",
          "traceback": [
            "\u001b[0;31m---------------------------------------------------------------------------\u001b[0m",
            "\u001b[0;31mModuleNotFoundError\u001b[0m                       Traceback (most recent call last)",
            "\u001b[0;32m<ipython-input-1-21cf492580ba>\u001b[0m in \u001b[0;36m<module>\u001b[0;34m()\u001b[0m\n\u001b[0;32m----> 1\u001b[0;31m \u001b[0;32mfrom\u001b[0m \u001b[0mpyspark\u001b[0m\u001b[0;34m.\u001b[0m\u001b[0mml\u001b[0m\u001b[0;34m.\u001b[0m\u001b[0mclassification\u001b[0m \u001b[0;32mimport\u001b[0m \u001b[0mMultilayerPerceptronClassifier\u001b[0m\u001b[0;34m\u001b[0m\u001b[0;34m\u001b[0m\u001b[0m\n\u001b[0m\u001b[1;32m      2\u001b[0m \u001b[0;32mfrom\u001b[0m \u001b[0mpyspark\u001b[0m\u001b[0;34m.\u001b[0m\u001b[0mml\u001b[0m\u001b[0;34m.\u001b[0m\u001b[0mevaluation\u001b[0m \u001b[0;32mimport\u001b[0m \u001b[0mMulticlassClassificationEvaluator\u001b[0m\u001b[0;34m\u001b[0m\u001b[0;34m\u001b[0m\u001b[0m\n\u001b[1;32m      3\u001b[0m \u001b[0;32mfrom\u001b[0m \u001b[0mgoogle\u001b[0m\u001b[0;34m.\u001b[0m\u001b[0mcolab\u001b[0m \u001b[0;32mimport\u001b[0m \u001b[0mdrive\u001b[0m\u001b[0;34m\u001b[0m\u001b[0;34m\u001b[0m\u001b[0m\n\u001b[1;32m      4\u001b[0m \u001b[0mdrive\u001b[0m\u001b[0;34m.\u001b[0m\u001b[0mmount\u001b[0m\u001b[0;34m(\u001b[0m\u001b[0;34m'/content/drive'\u001b[0m\u001b[0;34m)\u001b[0m\u001b[0;34m\u001b[0m\u001b[0;34m\u001b[0m\u001b[0m\n",
            "\u001b[0;31mModuleNotFoundError\u001b[0m: No module named 'pyspark'",
            "",
            "\u001b[0;31m---------------------------------------------------------------------------\u001b[0;32m\nNOTE: If your import is failing due to a missing package, you can\nmanually install dependencies using either !pip or !apt.\n\nTo view examples of installing some common dependencies, click the\n\"Open Examples\" button below.\n\u001b[0;31m---------------------------------------------------------------------------\u001b[0m\n"
          ],
          "errorDetails": {
            "actions": [
              {
                "action": "open_url",
                "actionText": "Open Examples",
                "url": "/notebooks/snippets/importing_libraries.ipynb"
              }
            ]
          }
        }
      ],
      "source": [
        "from pyspark.ml.classification import MultilayerPerceptronClassifier\n",
        "from pyspark.ml.evaluation import MulticlassClassificationEvaluator\n",
        "from google.colab import drive\n",
        "drive.mount('/content/drive')"
      ]
    },
    {
      "cell_type": "code",
      "execution_count": null,
      "metadata": {
        "colab": {
          "base_uri": "https://localhost:8080/"
        },
        "id": "GL70L3Rrregz",
        "outputId": "91ca7aaa-3d9b-419e-b44a-ad088e83c6be"
      },
      "outputs": [
        {
          "output_type": "stream",
          "name": "stdout",
          "text": [
            "root\n",
            " |-- label: integer (nullable = true)\n",
            " |-- uid: integer (nullable = true)\n",
            " |-- task_id: integer (nullable = true)\n",
            " |-- adv_id: integer (nullable = true)\n",
            " |-- creat_type_cd: integer (nullable = true)\n",
            " |-- adv_prim_id: integer (nullable = true)\n",
            " |-- dev_id: integer (nullable = true)\n",
            " |-- inter_type_cd: integer (nullable = true)\n",
            " |-- slot_id: integer (nullable = true)\n",
            " |-- spread_app_id: integer (nullable = true)\n",
            " |-- tags: integer (nullable = true)\n",
            " |-- app_first_class: integer (nullable = true)\n",
            " |-- app_second_class: integer (nullable = true)\n",
            " |-- age: integer (nullable = true)\n",
            " |-- city: integer (nullable = true)\n",
            " |-- city_rank: integer (nullable = true)\n",
            " |-- device_name: integer (nullable = true)\n",
            " |-- device_size: integer (nullable = true)\n",
            " |-- career: integer (nullable = true)\n",
            " |-- gender: integer (nullable = true)\n",
            " |-- net_type: integer (nullable = true)\n",
            " |-- residence: integer (nullable = true)\n",
            " |-- his_app_size: integer (nullable = true)\n",
            " |-- his_on_shelf_time: integer (nullable = true)\n",
            " |-- app_score: integer (nullable = true)\n",
            " |-- emui_dev: integer (nullable = true)\n",
            " |-- list_time: integer (nullable = true)\n",
            " |-- device_price: integer (nullable = true)\n",
            " |-- up_life_duration: integer (nullable = true)\n",
            " |-- up_membership_grade: integer (nullable = true)\n",
            " |-- membership_life_duration: integer (nullable = true)\n",
            " |-- consume_purchase: integer (nullable = true)\n",
            " |-- communication_onlinerate: string (nullable = true)\n",
            " |-- communication_avgonline_30d: integer (nullable = true)\n",
            " |-- indu_name: integer (nullable = true)\n",
            " |-- pt_d: integer (nullable = true)\n",
            "\n"
          ]
        }
      ],
      "source": [
        "raw_train_data = spark.read.option(\"delimiter\", \"|\").options(header = True, inferSchema = True).csv(\"/content/drive/MyDrive/train_data.csv\")\n",
        "raw_train_data.printSchema()\n",
        "temp, temp1=raw_train_data.randomSplit([0.1, 0.9])\n",
        "train, test=temp.randomSplit([0.95, 0.05])"
      ]
    },
    {
      "cell_type": "code",
      "execution_count": null,
      "metadata": {
        "id": "eQow3YgBrjsV"
      },
      "outputs": [],
      "source": [
        "from pyspark.ml.feature import VectorAssembler\n",
        "# Apply the transformation and rename columns\n",
        "id_df = train.select(\"uid\", \"task_id\",\"adv_id\")\n",
        "train_df=train.drop(\"uid\", \"task_id\",\"adv_id\",\"communication_onlinerate\")"
      ]
    },
    {
      "cell_type": "code",
      "execution_count": null,
      "metadata": {
        "id": "5gEAIVibrmIz"
      },
      "outputs": [],
      "source": [
        "# Dynamically generate name of columns\n",
        "vecAssembler = VectorAssembler(\n",
        "    inputCols = train_df.columns[1:],\n",
        "    outputCol = \"features\")\n",
        "\n",
        "# Apply the transformation\n",
        "vec_data = vecAssembler.transform(train_df)\n",
        "train_data_new=vec_data.select(\"label\",\"features\")\n"
      ]
    },
    {
      "cell_type": "code",
      "execution_count": null,
      "metadata": {
        "id": "egp_dnP9rraM"
      },
      "outputs": [],
      "source": [
        "id_df_test = test.select(\"uid\", \"task_id\",\"adv_id\")\n",
        "test_df=test.drop(\"uid\", \"task_id\",\"adv_id\",\"communication_onlinerate\")\n",
        "# Dynamically generate name of columns\n",
        "vecAssembler = VectorAssembler(\n",
        "    inputCols = test_df.columns[1:],\n",
        "    outputCol = \"features\")\n",
        "\n",
        "# Apply the transformation\n",
        "vec_data = vecAssembler.transform(test_df)\n",
        "test_data_new=vec_data.select(\"label\",\"features\")"
      ]
    },
    {
      "cell_type": "code",
      "execution_count": null,
      "metadata": {
        "id": "xpzekqd2rzhu"
      },
      "outputs": [],
      "source": [
        "train1DF = train_data_new.where(\"label=1\")\n",
        "ONumber = train1DF.count()\n",
        "train0DF = train_data_new.where(\"label=0\")\n",
        "ZNumber = train0DF.count()\n",
        "ratio = ONumber/(ZNumber)\n",
        "sampleNormalDF = train0DF.sample(False, ratio, 10)\n",
        "underDF = train1DF.union(sampleNormalDF)"
      ]
    },
    {
      "cell_type": "markdown",
      "metadata": {
        "id": "Zcpa8NtmsBjo"
      },
      "source": [
        "## Deep learning"
      ]
    },
    {
      "cell_type": "code",
      "execution_count": null,
      "metadata": {
        "id": "cFzWrLqKsA-L"
      },
      "outputs": [],
      "source": [
        "from pyspark.ml.linalg import Vectors\n",
        "import numpy as np\n",
        "import random\n",
        "import tensorflow\n",
        "from pyspark import SparkContext, SparkConf\n",
        "from pyspark.sql import SQLContext\n",
        "from pyspark.ml.feature import StringIndexer, StandardScaler\n",
        "from pyspark.ml import Pipeline\n",
        "\n",
        "from tensorflow.keras import optimizers, regularizers\n",
        "from tensorflow.keras.models import Sequential\n",
        "from tensorflow.keras.layers import Dense, Dropout, Activation\n",
        "\n",
        "from elephas.ml_model import ElephasEstimator"
      ]
    },
    {
      "cell_type": "code",
      "execution_count": null,
      "metadata": {
        "id": "JUVp44OJsPCf"
      },
      "outputs": [],
      "source": [
        "dim=len(underDF.select(\"features\").first()[0])\n",
        "model=Sequential()\n",
        "model.add(Dense(128,input_shape=(dim,),activity_regularizer=regularizers.l2(0.01)))\n",
        "model.add(Activation('relu'))\n",
        "model.add(Dropout(rate=0.3))\n",
        "model.add(Dense(128,activity_regularizer=regularizers.l2(0.01)))\n",
        "model.add(Activation('relu'))\n",
        "model.add(Dropout(rate=0.3))\n",
        "model.add(Dense(2))\n",
        "model.add(Activation('sigmoid'))\n",
        "model.compile(loss='binary_crossentropy',optimizer='adam')"
      ]
    },
    {
      "cell_type": "code",
      "execution_count": null,
      "metadata": {
        "colab": {
          "base_uri": "https://localhost:8080/"
        },
        "id": "ddESmp8gsPEt",
        "outputId": "1bfebd0f-911f-48d6-c78a-0b46039cfbc2"
      },
      "outputs": [
        {
          "output_type": "stream",
          "name": "stderr",
          "text": [
            "/usr/local/lib/python3.7/dist-packages/keras/optimizer_v2/adam.py:105: UserWarning: The `lr` argument is deprecated, use `learning_rate` instead.\n",
            "  super(Adam, self).__init__(name, **kwargs)\n"
          ]
        }
      ],
      "source": [
        "#optimizer_coef=Adam(lr=0.01)\n",
        "#opt_coef=optimizers.serialize(optimizer_coef)\n",
        "optimizer_coef = optimizers.Adam(lr=0.01)\n",
        "opt_coef = optimizers.serialize(optimizer_coef)"
      ]
    },
    {
      "cell_type": "code",
      "source": [
        "estimate=ElephasEstimator()\n",
        "estimate.setFeaturesCol(\"features\")\n",
        "estimate.setLabelCol(\"label\")\n",
        "estimate.set_keras_model_config(model.to_json())\n",
        "estimate.set_categorical_labels(True)\n",
        "estimate.set_nb_classes(2)\n",
        "estimate.set_num_workers(1)\n",
        "estimate.set_epochs(25)\n",
        "estimate.set_batch_size(64)\n",
        "estimate.set_verbosity(1)\n",
        "estimate.set_validation_split(0.1)\n",
        "estimate.set_optimizer_config(opt_coef)\n",
        "estimate.set_mode(\"synchronous\")\n",
        "estimate.set_loss(\"binary_crossentropy\")\n",
        "estimate.set_metrics([\"acc\"])"
      ],
      "metadata": {
        "colab": {
          "base_uri": "https://localhost:8080/"
        },
        "id": "MHg6h-9uhP9E",
        "outputId": "9a3a9613-ee55-4d94-8396-42cae0341703"
      },
      "execution_count": null,
      "outputs": [
        {
          "output_type": "execute_result",
          "data": {
            "text/plain": [
              "ElephasEstimator_4822113b019a"
            ]
          },
          "metadata": {},
          "execution_count": 28
        }
      ]
    },
    {
      "cell_type": "code",
      "source": [
        "dl_pipeline=Pipeline(stages=[estimate])\n",
        "fit_dl=dl_pipeline.fit(underDF)"
      ],
      "metadata": {
        "colab": {
          "base_uri": "https://localhost:8080/"
        },
        "id": "H-Mxy_wFhRqd",
        "outputId": "25a751f3-6af4-45a9-8d1f-89180d496205"
      },
      "execution_count": null,
      "outputs": [
        {
          "output_type": "stream",
          "name": "stdout",
          "text": [
            ">>> Fit model\n",
            ">>> Synchronous training complete.\n"
          ]
        }
      ]
    },
    {
      "cell_type": "code",
      "execution_count": null,
      "metadata": {
        "id": "WQnaOutIsl1O"
      },
      "outputs": [],
      "source": [
        "#pred_train=fit_dl.transform(underDF)\n",
        "pred_test=fit_dl.transform(test_data_new)"
      ]
    },
    {
      "cell_type": "code",
      "execution_count": null,
      "metadata": {
        "colab": {
          "base_uri": "https://localhost:8080/"
        },
        "id": "gZrlYX7yFUmG",
        "outputId": "ac9d1794-55a9-48b2-c2cd-b7ce184199b0"
      },
      "outputs": [
        {
          "output_type": "execute_result",
          "data": {
            "text/plain": [
              "[Row(label=0, prediction=[0.438194215297699, 0.5616056323051453]),\n",
              " Row(label=0, prediction=[0.5163557529449463, 0.4836386442184448]),\n",
              " Row(label=0, prediction=[0.40139707922935486, 0.5984794497489929]),\n",
              " Row(label=0, prediction=[0.3933424949645996, 0.6066682934761047]),\n",
              " Row(label=0, prediction=[0.4820730984210968, 0.5178900361061096]),\n",
              " Row(label=0, prediction=[0.4340554177761078, 0.5658337473869324]),\n",
              " Row(label=0, prediction=[0.41489601135253906, 0.5851355791091919]),\n",
              " Row(label=0, prediction=[0.5241385102272034, 0.4758770763874054]),\n",
              " Row(label=0, prediction=[0.4530496299266815, 0.5468299388885498]),\n",
              " Row(label=0, prediction=[0.5099837779998779, 0.48999398946762085]),\n",
              " Row(label=0, prediction=[0.37734025716781616, 0.622628390789032]),\n",
              " Row(label=0, prediction=[0.4359513223171234, 0.5640239119529724]),\n",
              " Row(label=0, prediction=[0.46863946318626404, 0.5313493013381958]),\n",
              " Row(label=0, prediction=[0.3562997281551361, 0.6437332034111023]),\n",
              " Row(label=0, prediction=[0.5213179588317871, 0.47871267795562744]),\n",
              " Row(label=0, prediction=[0.47824618220329285, 0.5215450525283813]),\n",
              " Row(label=0, prediction=[0.5086542963981628, 0.4913155436515808]),\n",
              " Row(label=0, prediction=[0.4135501980781555, 0.5862641930580139]),\n",
              " Row(label=0, prediction=[0.463422030210495, 0.536344051361084]),\n",
              " Row(label=0, prediction=[0.4690689146518707, 0.5307546257972717]),\n",
              " Row(label=0, prediction=[0.5175883173942566, 0.4824284315109253]),\n",
              " Row(label=0, prediction=[0.3624550700187683, 0.6375131607055664]),\n",
              " Row(label=0, prediction=[0.41266748309135437, 0.5872901678085327]),\n",
              " Row(label=0, prediction=[0.43002572655677795, 0.5699203014373779]),\n",
              " Row(label=0, prediction=[0.5197933912277222, 0.48013055324554443]),\n",
              " Row(label=0, prediction=[0.4752129316329956, 0.5246576070785522]),\n",
              " Row(label=0, prediction=[0.38660097122192383, 0.6132520437240601]),\n",
              " Row(label=0, prediction=[0.44079458713531494, 0.5592135190963745]),\n",
              " Row(label=0, prediction=[0.5234086513519287, 0.47660934925079346]),\n",
              " Row(label=0, prediction=[0.37648072838783264, 0.6235202550888062]),\n",
              " Row(label=0, prediction=[0.4659220576286316, 0.5339611768722534]),\n",
              " Row(label=0, prediction=[0.5161776542663574, 0.48388126492500305]),\n",
              " Row(label=0, prediction=[0.41838428378105164, 0.5815260410308838]),\n",
              " Row(label=0, prediction=[0.5395340323448181, 0.46041804552078247]),\n",
              " Row(label=0, prediction=[0.506840169429779, 0.4931052327156067]),\n",
              " Row(label=0, prediction=[0.5026028156280518, 0.49738016724586487]),\n",
              " Row(label=0, prediction=[0.5270317196846008, 0.47297754883766174]),\n",
              " Row(label=0, prediction=[0.5222308039665222, 0.4777633547782898]),\n",
              " Row(label=0, prediction=[0.4786037802696228, 0.5212347507476807]),\n",
              " Row(label=0, prediction=[0.4287435710430145, 0.5711016654968262]),\n",
              " Row(label=0, prediction=[0.4856346547603607, 0.514271080493927]),\n",
              " Row(label=0, prediction=[0.4520629644393921, 0.5477721095085144]),\n",
              " Row(label=0, prediction=[0.43519851565361023, 0.5646072626113892]),\n",
              " Row(label=0, prediction=[0.5150904059410095, 0.48495376110076904]),\n",
              " Row(label=0, prediction=[0.49946993589401245, 0.5004138946533203]),\n",
              " Row(label=0, prediction=[0.5258638858795166, 0.47413772344589233]),\n",
              " Row(label=0, prediction=[0.4398408830165863, 0.5599850416183472]),\n",
              " Row(label=0, prediction=[0.4804458022117615, 0.5194776058197021]),\n",
              " Row(label=0, prediction=[0.503496527671814, 0.49644777178764343]),\n",
              " Row(label=0, prediction=[0.47223132848739624, 0.5276749730110168])]"
            ]
          },
          "metadata": {},
          "execution_count": 31
        }
      ],
      "source": [
        "pnl = pred_test.select(\"label\",\"prediction\")\n",
        "pnl.head(50)"
      ]
    },
    {
      "cell_type": "code",
      "source": [
        "pnl.tail(50)"
      ],
      "metadata": {
        "id": "_LMNY1_354qN",
        "colab": {
          "base_uri": "https://localhost:8080/"
        },
        "outputId": "339d4f51-052b-4892-9260-b517c2a162aa"
      },
      "execution_count": null,
      "outputs": [
        {
          "output_type": "execute_result",
          "data": {
            "text/plain": [
              "[Row(label=1, prediction=[0.3184173107147217, 0.6816353797912598]),\n",
              " Row(label=1, prediction=[0.40757182240486145, 0.5923088192939758]),\n",
              " Row(label=1, prediction=[0.33075153827667236, 0.6694265604019165]),\n",
              " Row(label=1, prediction=[0.3710591197013855, 0.6289851069450378]),\n",
              " Row(label=1, prediction=[0.27900463342666626, 0.7210713624954224]),\n",
              " Row(label=1, prediction=[0.31854450702667236, 0.6816060543060303]),\n",
              " Row(label=1, prediction=[0.3194119334220886, 0.6806076765060425]),\n",
              " Row(label=1, prediction=[0.29181569814682007, 0.7083054780960083]),\n",
              " Row(label=1, prediction=[0.3233720064163208, 0.6768039464950562]),\n",
              " Row(label=1, prediction=[0.37393718957901, 0.6261382102966309]),\n",
              " Row(label=1, prediction=[0.4349546730518341, 0.5649554133415222]),\n",
              " Row(label=1, prediction=[0.3644590675830841, 0.6355600953102112]),\n",
              " Row(label=1, prediction=[0.33881425857543945, 0.6614755392074585]),\n",
              " Row(label=1, prediction=[0.3894408643245697, 0.6106200218200684]),\n",
              " Row(label=1, prediction=[0.3038020133972168, 0.6961541175842285]),\n",
              " Row(label=1, prediction=[0.347168505191803, 0.6528571844100952]),\n",
              " Row(label=1, prediction=[0.4466967284679413, 0.5533464550971985]),\n",
              " Row(label=1, prediction=[0.38177400827407837, 0.6182135939598083]),\n",
              " Row(label=1, prediction=[0.3756067454814911, 0.6243973970413208]),\n",
              " Row(label=1, prediction=[0.3415568470954895, 0.6584869623184204]),\n",
              " Row(label=1, prediction=[0.2507994771003723, 0.7493894696235657]),\n",
              " Row(label=1, prediction=[0.3842267394065857, 0.6157395243644714]),\n",
              " Row(label=1, prediction=[0.3123153746128082, 0.6878194212913513]),\n",
              " Row(label=1, prediction=[0.3270070254802704, 0.6730873584747314]),\n",
              " Row(label=1, prediction=[0.2774936854839325, 0.7225515246391296]),\n",
              " Row(label=1, prediction=[0.35052162408828735, 0.6493769288063049]),\n",
              " Row(label=1, prediction=[0.4350886940956116, 0.5648491978645325]),\n",
              " Row(label=1, prediction=[0.3329293727874756, 0.6673209071159363]),\n",
              " Row(label=1, prediction=[0.344948410987854, 0.655180811882019]),\n",
              " Row(label=1, prediction=[0.34248656034469604, 0.6574580669403076]),\n",
              " Row(label=1, prediction=[0.31624794006347656, 0.6840243935585022]),\n",
              " Row(label=1, prediction=[0.28405067324638367, 0.7161954641342163]),\n",
              " Row(label=1, prediction=[0.3521384000778198, 0.648004412651062]),\n",
              " Row(label=1, prediction=[0.3765367269515991, 0.6236228942871094]),\n",
              " Row(label=1, prediction=[0.2849416136741638, 0.7151237726211548]),\n",
              " Row(label=1, prediction=[0.27514922618865967, 0.7249124050140381]),\n",
              " Row(label=1, prediction=[0.38021180033683777, 0.6197392344474792]),\n",
              " Row(label=1, prediction=[0.2833642363548279, 0.7167612910270691]),\n",
              " Row(label=1, prediction=[0.3125302195549011, 0.6874938011169434]),\n",
              " Row(label=1, prediction=[0.4050518870353699, 0.5948985815048218]),\n",
              " Row(label=1, prediction=[0.3952249586582184, 0.6048775911331177]),\n",
              " Row(label=1, prediction=[0.32268404960632324, 0.6774202585220337]),\n",
              " Row(label=1, prediction=[0.2619391679763794, 0.7381935119628906]),\n",
              " Row(label=1, prediction=[0.25184527039527893, 0.7483471632003784]),\n",
              " Row(label=1, prediction=[0.4181339144706726, 0.5818472504615784]),\n",
              " Row(label=1, prediction=[0.3146488666534424, 0.6854904890060425]),\n",
              " Row(label=1, prediction=[0.40045425295829773, 0.5995100736618042]),\n",
              " Row(label=1, prediction=[0.3757701516151428, 0.6242534518241882]),\n",
              " Row(label=1, prediction=[0.34844619035720825, 0.6514830589294434]),\n",
              " Row(label=1, prediction=[0.3664519786834717, 0.6336061358451843])]"
            ]
          },
          "metadata": {},
          "execution_count": 32
        }
      ]
    },
    {
      "cell_type": "code",
      "source": [
        "from pyspark.mllib.evaluation import MulticlassMetrics\n",
        "from pyspark.mllib.evaluation import BinaryClassificationMetrics\n",
        "pred_and_label_test=pnl.rdd.map(lambda row: (row['label'],row['prediction']))\n",
        "metrics=MulticlassMetrics(pred_and_label_test)"
      ],
      "metadata": {
        "colab": {
          "base_uri": "https://localhost:8080/",
          "height": 340
        },
        "id": "YlUw3pysoIMy",
        "outputId": "b6444cab-2ba5-4bf8-f849-041481154972"
      },
      "execution_count": null,
      "outputs": [
        {
          "output_type": "error",
          "ename": "TypeError",
          "evalue": "ignored",
          "traceback": [
            "\u001b[0;31m---------------------------------------------------------------------------\u001b[0m",
            "\u001b[0;31mTypeError\u001b[0m                                 Traceback (most recent call last)",
            "\u001b[0;32m<ipython-input-39-839824898a81>\u001b[0m in \u001b[0;36m<module>\u001b[0;34m()\u001b[0m\n\u001b[1;32m      2\u001b[0m \u001b[0;32mfrom\u001b[0m \u001b[0mpyspark\u001b[0m\u001b[0;34m.\u001b[0m\u001b[0mmllib\u001b[0m\u001b[0;34m.\u001b[0m\u001b[0mevaluation\u001b[0m \u001b[0;32mimport\u001b[0m \u001b[0mBinaryClassificationMetrics\u001b[0m\u001b[0;34m\u001b[0m\u001b[0;34m\u001b[0m\u001b[0m\n\u001b[1;32m      3\u001b[0m \u001b[0mpred_and_label_test\u001b[0m\u001b[0;34m=\u001b[0m\u001b[0mpnl\u001b[0m\u001b[0;34m.\u001b[0m\u001b[0mrdd\u001b[0m\u001b[0;34m.\u001b[0m\u001b[0mmap\u001b[0m\u001b[0;34m(\u001b[0m\u001b[0;32mlambda\u001b[0m \u001b[0mrow\u001b[0m\u001b[0;34m:\u001b[0m \u001b[0;34m(\u001b[0m\u001b[0mrow\u001b[0m\u001b[0;34m[\u001b[0m\u001b[0;34m'label'\u001b[0m\u001b[0;34m]\u001b[0m\u001b[0;34m,\u001b[0m\u001b[0mrow\u001b[0m\u001b[0;34m[\u001b[0m\u001b[0;34m'prediction'\u001b[0m\u001b[0;34m]\u001b[0m\u001b[0;34m)\u001b[0m\u001b[0;34m)\u001b[0m\u001b[0;34m\u001b[0m\u001b[0;34m\u001b[0m\u001b[0m\n\u001b[0;32m----> 4\u001b[0;31m \u001b[0mtemp\u001b[0m\u001b[0;34m=\u001b[0m\u001b[0msc\u001b[0m\u001b[0;34m.\u001b[0m\u001b[0mparallelize\u001b[0m\u001b[0;34m(\u001b[0m\u001b[0mpred_and_label_test\u001b[0m\u001b[0;34m)\u001b[0m\u001b[0;34m\u001b[0m\u001b[0;34m\u001b[0m\u001b[0m\n\u001b[0m\u001b[1;32m      5\u001b[0m \u001b[0mmetrics\u001b[0m\u001b[0;34m=\u001b[0m\u001b[0mMulticlassMetrics\u001b[0m\u001b[0;34m(\u001b[0m\u001b[0mtemp\u001b[0m\u001b[0;34m)\u001b[0m\u001b[0;34m\u001b[0m\u001b[0;34m\u001b[0m\u001b[0m\n",
            "\u001b[0;32m/usr/local/lib/python3.7/dist-packages/pyspark/context.py\u001b[0m in \u001b[0;36mparallelize\u001b[0;34m(self, c, numSlices)\u001b[0m\n\u001b[1;32m    562\u001b[0m         \u001b[0;31m# Make sure we distribute data evenly if it's smaller than self.batchSize\u001b[0m\u001b[0;34m\u001b[0m\u001b[0;34m\u001b[0m\u001b[0;34m\u001b[0m\u001b[0m\n\u001b[1;32m    563\u001b[0m         \u001b[0;32mif\u001b[0m \u001b[0;34m\"__len__\"\u001b[0m \u001b[0;32mnot\u001b[0m \u001b[0;32min\u001b[0m \u001b[0mdir\u001b[0m\u001b[0;34m(\u001b[0m\u001b[0mc\u001b[0m\u001b[0;34m)\u001b[0m\u001b[0;34m:\u001b[0m\u001b[0;34m\u001b[0m\u001b[0;34m\u001b[0m\u001b[0m\n\u001b[0;32m--> 564\u001b[0;31m             \u001b[0mc\u001b[0m \u001b[0;34m=\u001b[0m \u001b[0mlist\u001b[0m\u001b[0;34m(\u001b[0m\u001b[0mc\u001b[0m\u001b[0;34m)\u001b[0m    \u001b[0;31m# Make it a list so we can compute its length\u001b[0m\u001b[0;34m\u001b[0m\u001b[0;34m\u001b[0m\u001b[0m\n\u001b[0m\u001b[1;32m    565\u001b[0m         \u001b[0mbatchSize\u001b[0m \u001b[0;34m=\u001b[0m \u001b[0mmax\u001b[0m\u001b[0;34m(\u001b[0m\u001b[0;36m1\u001b[0m\u001b[0;34m,\u001b[0m \u001b[0mmin\u001b[0m\u001b[0;34m(\u001b[0m\u001b[0mlen\u001b[0m\u001b[0;34m(\u001b[0m\u001b[0mc\u001b[0m\u001b[0;34m)\u001b[0m \u001b[0;34m//\u001b[0m \u001b[0mnumSlices\u001b[0m\u001b[0;34m,\u001b[0m \u001b[0mself\u001b[0m\u001b[0;34m.\u001b[0m\u001b[0m_batchSize\u001b[0m \u001b[0;32mor\u001b[0m \u001b[0;36m1024\u001b[0m\u001b[0;34m)\u001b[0m\u001b[0;34m)\u001b[0m\u001b[0;34m\u001b[0m\u001b[0;34m\u001b[0m\u001b[0m\n\u001b[1;32m    566\u001b[0m         \u001b[0mserializer\u001b[0m \u001b[0;34m=\u001b[0m \u001b[0mBatchedSerializer\u001b[0m\u001b[0;34m(\u001b[0m\u001b[0mself\u001b[0m\u001b[0;34m.\u001b[0m\u001b[0m_unbatched_serializer\u001b[0m\u001b[0;34m,\u001b[0m \u001b[0mbatchSize\u001b[0m\u001b[0;34m)\u001b[0m\u001b[0;34m\u001b[0m\u001b[0;34m\u001b[0m\u001b[0m\n",
            "\u001b[0;31mTypeError\u001b[0m: 'PipelinedRDD' object is not iterable"
          ]
        }
      ]
    },
    {
      "cell_type": "code",
      "source": [
        "pred_and_label_test.first()"
      ],
      "metadata": {
        "colab": {
          "base_uri": "https://localhost:8080/"
        },
        "id": "24VGnOn2xwXi",
        "outputId": "2bbc2db1-0c5b-4937-ab19-a90513504ace"
      },
      "execution_count": null,
      "outputs": [
        {
          "output_type": "execute_result",
          "data": {
            "text/plain": [
              "(0, [0.48643019795417786, 0.5138109922409058])"
            ]
          },
          "metadata": {},
          "execution_count": 23
        }
      ]
    },
    {
      "cell_type": "code",
      "execution_count": null,
      "metadata": {
        "id": "F3coGTl4xpgk"
      },
      "outputs": [],
      "source": [
        "print(\"Accuracy: {}\".format(round(metrics.accuracy(),4)))"
      ]
    },
    {
      "cell_type": "code",
      "source": [
        "causaldf=train.tail(500)"
      ],
      "metadata": {
        "id": "ombSvnnJ9bWG"
      },
      "execution_count": null,
      "outputs": []
    },
    {
      "cell_type": "code",
      "source": [
        "test.where(\"label=1\").show()"
      ],
      "metadata": {
        "colab": {
          "base_uri": "https://localhost:8080/"
        },
        "id": "CTyiXem--i1Y",
        "outputId": "491059a5-5683-47eb-9dae-492b70dff38f"
      },
      "execution_count": null,
      "outputs": [
        {
          "output_type": "stream",
          "name": "stdout",
          "text": [
            "+-----+-------+-------+------+-------------+-----------+------+-------------+-------+-------------+----+---------------+----------------+---+----+---------+-----------+-----------+------+------+--------+---------+------------+-----------------+---------+--------+---------+------------+----------------+-------------------+------------------------+----------------+------------------------+---------------------------+---------+----+\n",
            "|label|    uid|task_id|adv_id|creat_type_cd|adv_prim_id|dev_id|inter_type_cd|slot_id|spread_app_id|tags|app_first_class|app_second_class|age|city|city_rank|device_name|device_size|career|gender|net_type|residence|his_app_size|his_on_shelf_time|app_score|emui_dev|list_time|device_price|up_life_duration|up_membership_grade|membership_life_duration|consume_purchase|communication_onlinerate|communication_avgonline_30d|indu_name|pt_d|\n",
            "+-----+-------+-------+------+-------------+-----------+------+-------------+-------+-------------+----+---------------+----------------+---+----+---------+-----------+-----------+------+------+--------+---------+------------+-----------------+---------+--------+---------+------------+----------------+-------------------+------------------------+----------------+------------------------+---------------------------+---------+----+\n",
            "|    1|1005960|   2366|  3431|            3|        210|    70|            4|     21|           88|  40|              4|              25|  5| 200|        3|         88|        180|     4|     2|       3|       13|          16|                3|        2|      20|        7|           3|              18|                 -1|                      -1|               2|    1^2^3^4^5^6^7^8^9...|                         12|       27|   1|\n",
            "|    1|1021343|   5372|  3899|            7|        109|    29|            5|     12|           86|  37|              4|              21|  5| 141|        3|         35|        117|     4|     2|       2|       37|           4|                3|        2|      20|       15|           3|              20|                 -1|                      -1|               2|    0^1^2^3^4^5^6^7^8...|                         12|       17|   1|\n",
            "|    1|1031158|   2766|  4291|            7|        156|    56|            5|     12|           58|  37|              4|              21|  6| 127|        3|         29|        141|     4|     2|       2|       39|          14|                3|        2|      20|        9|           3|              -1|                 -1|                      -1|               2|    6^7^8^9^10^11^12^...|                         10|       17|   1|\n",
            "|    1|1048491|   3084|  3824|            7|        150|    17|            5|     22|           11|  39|              4|              17|  6| 142|        3|         48|        349|     9|     2|       2|       35|           6|                3|        2|      14|       10|           3|              18|                 -1|                      -1|               2|    5^6^7^8^9^10^11^1...|                         11|       36|   1|\n",
            "|    1|1048846|   3927|  3434|            6|        156|    56|            5|     18|           58|  37|              4|              21|  5| 312|        3|         74|        141|     9|     2|       2|       20|          14|                3|        2|      20|        8|           2|              -1|                 -1|                      -1|               2|    0^1^2^3^4^5^6^7^8...|                         13|       17|   1|\n",
            "|    1|1050208|   3352|  5188|            7|        122|    18|            5|     15|           56|  18|              4|              29|  4| 110|        5|         82|        117|    10|     2|       2|       20|          16|                2|        2|      20|        9|           3|              14|                 -1|                      -1|               2|    3^4^5^6^7^8^9^10^...|                         12|       14|   1|\n",
            "|    1|1050907|   1669|  4362|            7|        207|    17|            5|     22|           13|  37|              4|              21|  7| 416|        5|        103|        179|     4|     2|       2|       12|           4|                2|        2|      19|       12|           2|              -1|                 -1|                      -1|               2|    5^6^7^8^9^10^11^1...|                         11|       17|   1|\n",
            "|    1|1051733|   3454|  2610|            6|        137|    37|            5|     18|           34|  13|              4|              25|  7| 333|        5|         80|        156|     9|     2|       2|       41|          17|                3|        2|      26|        7|           1|              18|                 -1|                      -1|               2|    7^8^9^10^11^12^13...|                          9|       17|   1|\n",
            "|    1|1055837|   4923|  5514|            7|        178|    17|            5|     12|           70|  39|              4|              17|  7| 187|        4|         65|        141|     9|     2|       2|       37|           2|                3|        2|      14|       10|           2|              16|                 -1|                      -1|               2|    0^1^2^3^4^5^6^7^8...|                         13|       36|   1|\n",
            "|    1|1057965|   3253|  5804|            8|        142|    36|            5|     12|           80|  41|              4|              26|  3| 223|        4|        103|        141|     4|     4|       3|       37|           5|                3|        2|      19|       12|           2|              20|                  1|                      -1|               5|    8^9^10^11^12^13^1...|                         10|       42|   1|\n",
            "|    1|1058731|   1847|  6428|            7|        178|    17|            5|     12|           70|  39|              4|              17|  7| 344|        3|         26|        156|     9|     2|       2|       30|           2|                3|        2|      14|       12|           1|              -1|                 -1|                      -1|               2|    4^5^6^7^8^9^10^11...|                         11|       36|   1|\n",
            "|    1|1062451|   5110|  6583|            7|        207|    17|            5|     12|           13|  37|              4|              21|  7| 241|        3|         99|        141|     9|     4|       2|       39|           4|                2|        2|      20|       12|           2|              -1|                 -1|                      -1|               2|    6^7^8^9^10^11^12^...|                         10|       17|   1|\n",
            "|    1|1069830|   2567|  5472|            7|        102|    16|            5|     13|           60|  18|              4|              29|  5| 133|        3|         54|        141|     3|     4|       2|       34|          19|                2|        2|      12|        9|           3|              18|                 -1|                      -1|               5|    7^8^9^10^11^12^13...|                         11|       14|   1|\n",
            "|    1|1071969|   1500|  5839|            7|        134|    55|            4|     17|           65|  18|              4|              29|  4| 431|        3|         32|        141|     5|     2|       2|       37|          11|                2|        2|      20|        4|           5|              20|                 -1|                      -1|               2|    6^7^8^9^10^11^12^...|                         10|       14|   1|\n",
            "|    1|1077048|   4806|  2176|            7|        206|    64|            5|     12|           22|  39|              4|              17|  1| 187|        4|         57|        193|     9|     2|       2|       37|           4|                3|        2|      14|       13|           2|              -1|                 -1|                      -1|               2|    4^5^6^7^8^9^10^11...|                         11|       36|   1|\n",
            "|    1|1091405|   4348|  3639|            7|        150|    17|            5|     12|           11|  39|              4|              17|  4| 374|        3|         58|        141|     9|     2|       2|       21|           6|                3|        2|      20|        7|           2|              20|                 -1|                      -1|               2|    3^4^5^6^7^8^9^10^...|                         12|       36|   1|\n",
            "|    1|1098573|   2729|  4412|            8|        142|    36|            5|     12|           80|  41|              4|              26|  4| 403|        3|         58|        141|     4|     4|       3|       34|           5|                3|        2|      20|        7|           2|              18|                 -1|                      -1|               2|    5^6^7^8^9^10^11^1...|                         11|       42|   1|\n",
            "|    1|1112490|   1847|  6428|            7|        178|    17|            5|     12|           70|  39|              4|              17|  1| 186|        5|         25|        141|     4|     2|       2|       39|           2|                3|        2|      12|        9|           4|              12|                 -1|                      -1|               2|    0^1^2^3^4^5^6^7^8...|                         13|       36|   1|\n",
            "|    1|1113512|   5745|  5347|            7|        122|    60|            5|     22|           56|  18|              2|              29|  4| 286|        4|         81|        326|     6|     2|       2|       46|          -1|               -1|        1|      20|        4|           5|              18|                 -1|                      -1|               7|    1^2^3^4^5^6^7^8^9...|                         12|       24|   1|\n",
            "|    1|1123579|   4525|  4748|            7|        147|    29|            5|     17|           86|  37|              4|              21|  4| 221|        5|         91|        310|     4|     4|       2|       12|           4|                3|        2|      27|       14|           5|              18|                 -1|                      -1|               2|    0^1^2^3^4^5^6^7^8...|                         13|       17|   1|\n",
            "+-----+-------+-------+------+-------------+-----------+------+-------------+-------+-------------+----+---------------+----------------+---+----+---------+-----------+-----------+------+------+--------+---------+------------+-----------------+---------+--------+---------+------------+----------------+-------------------+------------------------+----------------+------------------------+---------------------------+---------+----+\n",
            "only showing top 20 rows\n",
            "\n"
          ]
        }
      ]
    },
    {
      "cell_type": "code",
      "source": [
        "test1DF = test.where(\"label=1\")\n",
        "ONumber = test1DF.count()\n",
        "test0DF = test.where(\"label=0\")\n",
        "ZNumber = test0DF.count()\n",
        "ratio = ONumber/(ZNumber)\n",
        "sampleNormalDF = test0DF.sample(False, ratio, 10)\n",
        "underDF = test1DF.union(sampleNormalDF)"
      ],
      "metadata": {
        "id": "UZIcWT_GDr-l"
      },
      "execution_count": null,
      "outputs": []
    },
    {
      "cell_type": "code",
      "source": [
        "label1=underDF.head(200)\n",
        "label0=underDF.tail(200)"
      ],
      "metadata": {
        "id": "FWZ7gOzIGi5B"
      },
      "execution_count": null,
      "outputs": []
    },
    {
      "cell_type": "code",
      "source": [
        "df=underDF.toPandas()"
      ],
      "metadata": {
        "id": "YlYQFPtWGx4n"
      },
      "execution_count": null,
      "outputs": []
    },
    {
      "cell_type": "code",
      "source": [
        "df.to_csv('out.csv')"
      ],
      "metadata": {
        "id": "cIcMXTPeHXah"
      },
      "execution_count": null,
      "outputs": []
    },
    {
      "cell_type": "markdown",
      "source": [
        "Begin from here"
      ],
      "metadata": {
        "id": "NqURz1yLO9BB"
      }
    },
    {
      "cell_type": "code",
      "source": [
        "from google.colab import drive\n",
        "import pandas as pd\n",
        "drive.mount('/content/drive')\n",
        "df=pd.read_csv(\"/content/drive/MyDrive/out.csv\")"
      ],
      "metadata": {
        "id": "zOjF-GsWO8TR",
        "colab": {
          "base_uri": "https://localhost:8080/"
        },
        "outputId": "bcbeff44-d056-4e9d-89c0-d426677a93aa"
      },
      "execution_count": null,
      "outputs": [
        {
          "output_type": "stream",
          "name": "stdout",
          "text": [
            "Drive already mounted at /content/drive; to attempt to forcibly remount, call drive.mount(\"/content/drive\", force_remount=True).\n"
          ]
        }
      ]
    },
    {
      "cell_type": "code",
      "source": [
        "newdf=df.sample(500)"
      ],
      "metadata": {
        "id": "WozBzPU3JOHo"
      },
      "execution_count": null,
      "outputs": []
    },
    {
      "cell_type": "code",
      "source": [
        "colname=newdf.columns\n",
        "colname"
      ],
      "metadata": {
        "colab": {
          "base_uri": "https://localhost:8080/"
        },
        "id": "aot5xQYnLXPM",
        "outputId": "e72a7975-4e98-4b9b-d68b-c6f98cf7259b"
      },
      "execution_count": null,
      "outputs": [
        {
          "output_type": "execute_result",
          "data": {
            "text/plain": [
              "Index(['Unnamed: 0', 'label', 'uid', 'task_id', 'adv_id', 'creat_type_cd',\n",
              "       'adv_prim_id', 'dev_id', 'inter_type_cd', 'slot_id', 'spread_app_id',\n",
              "       'tags', 'app_first_class', 'app_second_class', 'age', 'city',\n",
              "       'city_rank', 'device_name', 'device_size', 'career', 'gender',\n",
              "       'net_type', 'residence', 'his_app_size', 'his_on_shelf_time',\n",
              "       'app_score', 'emui_dev', 'list_time', 'device_price',\n",
              "       'up_life_duration', 'up_membership_grade', 'membership_life_duration',\n",
              "       'consume_purchase', 'communication_avgonline_30d', 'indu_name', 'pt_d'],\n",
              "      dtype='object')"
            ]
          },
          "metadata": {},
          "execution_count": 5
        }
      ]
    },
    {
      "cell_type": "code",
      "source": [
        "newdf"
      ],
      "metadata": {
        "id": "djsX9_taPP-9"
      },
      "execution_count": null,
      "outputs": []
    },
    {
      "cell_type": "markdown",
      "source": [
        "## Causal inference"
      ],
      "metadata": {
        "id": "iHGfiKmCJ5Qf"
      }
    },
    {
      "cell_type": "code",
      "source": [
        "!apt-get install python3.8\n",
        "!pip install dowhy\n",
        "!pip install econml"
      ],
      "metadata": {
        "id": "Qu0UX2kvJ25c",
        "colab": {
          "base_uri": "https://localhost:8080/"
        },
        "outputId": "f2cbdc4f-444a-40e5-ba44-c408ae6f4a44"
      },
      "execution_count": null,
      "outputs": [
        {
          "output_type": "stream",
          "name": "stdout",
          "text": [
            "Reading package lists... Done\n",
            "Building dependency tree       \n",
            "Reading state information... Done\n",
            "The following packages were automatically installed and are no longer required:\n",
            "  libnvidia-common-460 nsight-compute-2020.2.0\n",
            "Use 'apt autoremove' to remove them.\n",
            "The following additional packages will be installed:\n",
            "  libpython3.8-minimal libpython3.8-stdlib python3.8-minimal\n",
            "Suggested packages:\n",
            "  python3.8-venv binfmt-support\n",
            "The following NEW packages will be installed:\n",
            "  libpython3.8-minimal libpython3.8-stdlib python3.8 python3.8-minimal\n",
            "0 upgraded, 4 newly installed, 0 to remove and 42 not upgraded.\n",
            "Need to get 4,691 kB of archives.\n",
            "After this operation, 18.5 MB of additional disk space will be used.\n",
            "Get:1 http://ppa.launchpad.net/deadsnakes/ppa/ubuntu bionic/main amd64 libpython3.8-minimal amd64 3.8.13-1+bionic2 [762 kB]\n",
            "Get:2 http://ppa.launchpad.net/deadsnakes/ppa/ubuntu bionic/main amd64 python3.8-minimal amd64 3.8.13-1+bionic2 [1,837 kB]\n",
            "Get:3 http://ppa.launchpad.net/deadsnakes/ppa/ubuntu bionic/main amd64 libpython3.8-stdlib amd64 3.8.13-1+bionic2 [1,657 kB]\n",
            "Get:4 http://ppa.launchpad.net/deadsnakes/ppa/ubuntu bionic/main amd64 python3.8 amd64 3.8.13-1+bionic2 [434 kB]\n",
            "Fetched 4,691 kB in 0s (11.3 MB/s)\n",
            "Selecting previously unselected package libpython3.8-minimal:amd64.\n",
            "(Reading database ... 155203 files and directories currently installed.)\n",
            "Preparing to unpack .../libpython3.8-minimal_3.8.13-1+bionic2_amd64.deb ...\n",
            "Unpacking libpython3.8-minimal:amd64 (3.8.13-1+bionic2) ...\n",
            "Selecting previously unselected package python3.8-minimal.\n",
            "Preparing to unpack .../python3.8-minimal_3.8.13-1+bionic2_amd64.deb ...\n",
            "Unpacking python3.8-minimal (3.8.13-1+bionic2) ...\n",
            "Selecting previously unselected package libpython3.8-stdlib:amd64.\n",
            "Preparing to unpack .../libpython3.8-stdlib_3.8.13-1+bionic2_amd64.deb ...\n",
            "Unpacking libpython3.8-stdlib:amd64 (3.8.13-1+bionic2) ...\n",
            "Selecting previously unselected package python3.8.\n",
            "Preparing to unpack .../python3.8_3.8.13-1+bionic2_amd64.deb ...\n",
            "Unpacking python3.8 (3.8.13-1+bionic2) ...\n",
            "Setting up libpython3.8-minimal:amd64 (3.8.13-1+bionic2) ...\n",
            "Setting up python3.8-minimal (3.8.13-1+bionic2) ...\n",
            "Setting up libpython3.8-stdlib:amd64 (3.8.13-1+bionic2) ...\n",
            "Setting up python3.8 (3.8.13-1+bionic2) ...\n",
            "Processing triggers for mime-support (3.60ubuntu1) ...\n",
            "Processing triggers for man-db (2.8.3-2ubuntu0.1) ...\n",
            "Collecting dowhy\n",
            "  Downloading dowhy-0.7.1-py3-none-any.whl (164 kB)\n",
            "\u001b[K     |████████████████████████████████| 164 kB 13.6 MB/s \n",
            "\u001b[?25hRequirement already satisfied: sympy>=1.4 in /usr/local/lib/python3.7/dist-packages (from dowhy) (1.7.1)\n",
            "Collecting pydot>=1.4\n",
            "  Downloading pydot-1.4.2-py2.py3-none-any.whl (21 kB)\n",
            "Requirement already satisfied: networkx>=2.0 in /usr/local/lib/python3.7/dist-packages (from dowhy) (2.6.3)\n",
            "Requirement already satisfied: scipy in /usr/local/lib/python3.7/dist-packages (from dowhy) (1.4.1)\n",
            "Requirement already satisfied: scikit-learn in /usr/local/lib/python3.7/dist-packages (from dowhy) (1.0.2)\n",
            "Requirement already satisfied: numpy>=1.15 in /usr/local/lib/python3.7/dist-packages (from dowhy) (1.21.6)\n",
            "Requirement already satisfied: statsmodels in /usr/local/lib/python3.7/dist-packages (from dowhy) (0.10.2)\n",
            "Requirement already satisfied: pandas>=0.24 in /usr/local/lib/python3.7/dist-packages (from dowhy) (1.3.5)\n",
            "Requirement already satisfied: python-dateutil>=2.7.3 in /usr/local/lib/python3.7/dist-packages (from pandas>=0.24->dowhy) (2.8.2)\n",
            "Requirement already satisfied: pytz>=2017.3 in /usr/local/lib/python3.7/dist-packages (from pandas>=0.24->dowhy) (2022.1)\n",
            "Requirement already satisfied: pyparsing>=2.1.4 in /usr/local/lib/python3.7/dist-packages (from pydot>=1.4->dowhy) (3.0.8)\n",
            "Requirement already satisfied: six>=1.5 in /usr/local/lib/python3.7/dist-packages (from python-dateutil>=2.7.3->pandas>=0.24->dowhy) (1.15.0)\n",
            "Requirement already satisfied: mpmath>=0.19 in /usr/local/lib/python3.7/dist-packages (from sympy>=1.4->dowhy) (1.2.1)\n",
            "Requirement already satisfied: threadpoolctl>=2.0.0 in /usr/local/lib/python3.7/dist-packages (from scikit-learn->dowhy) (3.1.0)\n",
            "Requirement already satisfied: joblib>=0.11 in /usr/local/lib/python3.7/dist-packages (from scikit-learn->dowhy) (1.1.0)\n",
            "Requirement already satisfied: patsy>=0.4.0 in /usr/local/lib/python3.7/dist-packages (from statsmodels->dowhy) (0.5.2)\n",
            "Installing collected packages: pydot, dowhy\n",
            "  Attempting uninstall: pydot\n",
            "    Found existing installation: pydot 1.3.0\n",
            "    Uninstalling pydot-1.3.0:\n",
            "      Successfully uninstalled pydot-1.3.0\n",
            "Successfully installed dowhy-0.7.1 pydot-1.4.2\n",
            "Collecting econml\n",
            "  Downloading econml-0.13.0-cp37-cp37m-manylinux_2_17_x86_64.manylinux2014_x86_64.whl (3.3 MB)\n",
            "\u001b[K     |████████████████████████████████| 3.3 MB 8.4 MB/s \n",
            "\u001b[?25hRequirement already satisfied: statsmodels>=0.10 in /usr/local/lib/python3.7/dist-packages (from econml) (0.10.2)\n",
            "Collecting dowhy<0.7\n",
            "  Downloading dowhy-0.6-py3-none-any.whl (123 kB)\n",
            "\u001b[K     |████████████████████████████████| 123 kB 48.3 MB/s \n",
            "\u001b[?25hRequirement already satisfied: scipy>1.4.0 in /usr/local/lib/python3.7/dist-packages (from econml) (1.4.1)\n",
            "Collecting shap<0.40.0,>=0.38.1\n",
            "  Downloading shap-0.39.0.tar.gz (356 kB)\n",
            "\u001b[K     |████████████████████████████████| 356 kB 53.2 MB/s \n",
            "\u001b[?25hRequirement already satisfied: scikit-learn>0.22.0 in /usr/local/lib/python3.7/dist-packages (from econml) (1.0.2)\n",
            "Collecting sparse\n",
            "  Downloading sparse-0.13.0-py2.py3-none-any.whl (77 kB)\n",
            "\u001b[K     |████████████████████████████████| 77 kB 6.3 MB/s \n",
            "\u001b[?25hRequirement already satisfied: numpy in /usr/local/lib/python3.7/dist-packages (from econml) (1.21.6)\n",
            "Requirement already satisfied: joblib>=0.13.0 in /usr/local/lib/python3.7/dist-packages (from econml) (1.1.0)\n",
            "Requirement already satisfied: lightgbm in /usr/local/lib/python3.7/dist-packages (from econml) (2.2.3)\n",
            "Requirement already satisfied: pandas in /usr/local/lib/python3.7/dist-packages (from econml) (1.3.5)\n",
            "Requirement already satisfied: networkx>=2.0 in /usr/local/lib/python3.7/dist-packages (from dowhy<0.7->econml) (2.6.3)\n",
            "Requirement already satisfied: pydot>=1.4 in /usr/local/lib/python3.7/dist-packages (from dowhy<0.7->econml) (1.4.2)\n",
            "Requirement already satisfied: sympy>=1.4 in /usr/local/lib/python3.7/dist-packages (from dowhy<0.7->econml) (1.7.1)\n",
            "Requirement already satisfied: python-dateutil>=2.7.3 in /usr/local/lib/python3.7/dist-packages (from pandas->econml) (2.8.2)\n",
            "Requirement already satisfied: pytz>=2017.3 in /usr/local/lib/python3.7/dist-packages (from pandas->econml) (2022.1)\n",
            "Requirement already satisfied: pyparsing>=2.1.4 in /usr/local/lib/python3.7/dist-packages (from pydot>=1.4->dowhy<0.7->econml) (3.0.8)\n",
            "Requirement already satisfied: six>=1.5 in /usr/local/lib/python3.7/dist-packages (from python-dateutil>=2.7.3->pandas->econml) (1.15.0)\n",
            "Requirement already satisfied: threadpoolctl>=2.0.0 in /usr/local/lib/python3.7/dist-packages (from scikit-learn>0.22.0->econml) (3.1.0)\n",
            "Requirement already satisfied: tqdm>4.25.0 in /usr/local/lib/python3.7/dist-packages (from shap<0.40.0,>=0.38.1->econml) (4.64.0)\n",
            "Collecting slicer==0.0.7\n",
            "  Downloading slicer-0.0.7-py3-none-any.whl (14 kB)\n",
            "Requirement already satisfied: numba in /usr/local/lib/python3.7/dist-packages (from shap<0.40.0,>=0.38.1->econml) (0.51.2)\n",
            "Requirement already satisfied: cloudpickle in /usr/local/lib/python3.7/dist-packages (from shap<0.40.0,>=0.38.1->econml) (1.3.0)\n",
            "Requirement already satisfied: patsy>=0.4.0 in /usr/local/lib/python3.7/dist-packages (from statsmodels>=0.10->econml) (0.5.2)\n",
            "Requirement already satisfied: mpmath>=0.19 in /usr/local/lib/python3.7/dist-packages (from sympy>=1.4->dowhy<0.7->econml) (1.2.1)\n",
            "Requirement already satisfied: llvmlite<0.35,>=0.34.0.dev0 in /usr/local/lib/python3.7/dist-packages (from numba->shap<0.40.0,>=0.38.1->econml) (0.34.0)\n",
            "Requirement already satisfied: setuptools in /usr/local/lib/python3.7/dist-packages (from numba->shap<0.40.0,>=0.38.1->econml) (57.4.0)\n",
            "Building wheels for collected packages: shap\n",
            "  Building wheel for shap (setup.py) ... \u001b[?25l\u001b[?25hdone\n",
            "  Created wheel for shap: filename=shap-0.39.0-cp37-cp37m-linux_x86_64.whl size=491690 sha256=124cf569f107593a3c4428c0767a07426e3294bc69210f6d5013307ec3367399\n",
            "  Stored in directory: /root/.cache/pip/wheels/ca/25/8f/6ae5df62c32651cd719e972e738a8aaa4a87414c4d2b14c9c0\n",
            "Successfully built shap\n",
            "Installing collected packages: slicer, sparse, shap, dowhy, econml\n",
            "  Attempting uninstall: dowhy\n",
            "    Found existing installation: dowhy 0.7.1\n",
            "    Uninstalling dowhy-0.7.1:\n",
            "      Successfully uninstalled dowhy-0.7.1\n",
            "Successfully installed dowhy-0.6 econml-0.13.0 shap-0.39.0 slicer-0.0.7 sparse-0.13.0\n"
          ]
        }
      ]
    },
    {
      "cell_type": "code",
      "source": [
        "!apt install libgraphviz-dev\n",
        "!pip install pygraphviz"
      ],
      "metadata": {
        "id": "KSkkioYPJ_uO",
        "colab": {
          "base_uri": "https://localhost:8080/"
        },
        "outputId": "67ff8dc8-a8bb-41a3-eda7-0bfe36cf5435"
      },
      "execution_count": null,
      "outputs": [
        {
          "output_type": "stream",
          "name": "stdout",
          "text": [
            "Reading package lists... Done\n",
            "Building dependency tree       \n",
            "Reading state information... Done\n",
            "The following packages were automatically installed and are no longer required:\n",
            "  libnvidia-common-460 nsight-compute-2020.2.0\n",
            "Use 'apt autoremove' to remove them.\n",
            "The following additional packages will be installed:\n",
            "  libgail-common libgail18 libgtk2.0-0 libgtk2.0-bin libgtk2.0-common\n",
            "  libgvc6-plugins-gtk libxdot4\n",
            "Suggested packages:\n",
            "  gvfs\n",
            "The following NEW packages will be installed:\n",
            "  libgail-common libgail18 libgraphviz-dev libgtk2.0-0 libgtk2.0-bin\n",
            "  libgtk2.0-common libgvc6-plugins-gtk libxdot4\n",
            "0 upgraded, 8 newly installed, 0 to remove and 42 not upgraded.\n",
            "Need to get 2,120 kB of archives.\n",
            "After this operation, 7,128 kB of additional disk space will be used.\n",
            "Get:1 http://archive.ubuntu.com/ubuntu bionic/main amd64 libgtk2.0-common all 2.24.32-1ubuntu1 [125 kB]\n",
            "Get:2 http://archive.ubuntu.com/ubuntu bionic/main amd64 libgtk2.0-0 amd64 2.24.32-1ubuntu1 [1,769 kB]\n",
            "Get:3 http://archive.ubuntu.com/ubuntu bionic/main amd64 libgail18 amd64 2.24.32-1ubuntu1 [14.2 kB]\n",
            "Get:4 http://archive.ubuntu.com/ubuntu bionic/main amd64 libgail-common amd64 2.24.32-1ubuntu1 [112 kB]\n",
            "Get:5 http://archive.ubuntu.com/ubuntu bionic/universe amd64 libxdot4 amd64 2.40.1-2 [15.7 kB]\n",
            "Get:6 http://archive.ubuntu.com/ubuntu bionic/universe amd64 libgvc6-plugins-gtk amd64 2.40.1-2 [18.2 kB]\n",
            "Get:7 http://archive.ubuntu.com/ubuntu bionic/universe amd64 libgraphviz-dev amd64 2.40.1-2 [57.3 kB]\n",
            "Get:8 http://archive.ubuntu.com/ubuntu bionic/main amd64 libgtk2.0-bin amd64 2.24.32-1ubuntu1 [7,536 B]\n",
            "Fetched 2,120 kB in 1s (2,307 kB/s)\n",
            "Selecting previously unselected package libgtk2.0-common.\n",
            "(Reading database ... 155825 files and directories currently installed.)\n",
            "Preparing to unpack .../0-libgtk2.0-common_2.24.32-1ubuntu1_all.deb ...\n",
            "Unpacking libgtk2.0-common (2.24.32-1ubuntu1) ...\n",
            "Selecting previously unselected package libgtk2.0-0:amd64.\n",
            "Preparing to unpack .../1-libgtk2.0-0_2.24.32-1ubuntu1_amd64.deb ...\n",
            "Unpacking libgtk2.0-0:amd64 (2.24.32-1ubuntu1) ...\n",
            "Selecting previously unselected package libgail18:amd64.\n",
            "Preparing to unpack .../2-libgail18_2.24.32-1ubuntu1_amd64.deb ...\n",
            "Unpacking libgail18:amd64 (2.24.32-1ubuntu1) ...\n",
            "Selecting previously unselected package libgail-common:amd64.\n",
            "Preparing to unpack .../3-libgail-common_2.24.32-1ubuntu1_amd64.deb ...\n",
            "Unpacking libgail-common:amd64 (2.24.32-1ubuntu1) ...\n",
            "Selecting previously unselected package libxdot4.\n",
            "Preparing to unpack .../4-libxdot4_2.40.1-2_amd64.deb ...\n",
            "Unpacking libxdot4 (2.40.1-2) ...\n",
            "Selecting previously unselected package libgvc6-plugins-gtk.\n",
            "Preparing to unpack .../5-libgvc6-plugins-gtk_2.40.1-2_amd64.deb ...\n",
            "Unpacking libgvc6-plugins-gtk (2.40.1-2) ...\n",
            "Selecting previously unselected package libgraphviz-dev.\n",
            "Preparing to unpack .../6-libgraphviz-dev_2.40.1-2_amd64.deb ...\n",
            "Unpacking libgraphviz-dev (2.40.1-2) ...\n",
            "Selecting previously unselected package libgtk2.0-bin.\n",
            "Preparing to unpack .../7-libgtk2.0-bin_2.24.32-1ubuntu1_amd64.deb ...\n",
            "Unpacking libgtk2.0-bin (2.24.32-1ubuntu1) ...\n",
            "Setting up libgtk2.0-common (2.24.32-1ubuntu1) ...\n",
            "Setting up libxdot4 (2.40.1-2) ...\n",
            "Setting up libgtk2.0-0:amd64 (2.24.32-1ubuntu1) ...\n",
            "Setting up libgail18:amd64 (2.24.32-1ubuntu1) ...\n",
            "Setting up libgail-common:amd64 (2.24.32-1ubuntu1) ...\n",
            "Setting up libgvc6-plugins-gtk (2.40.1-2) ...\n",
            "Setting up libgraphviz-dev (2.40.1-2) ...\n",
            "Setting up libgtk2.0-bin (2.24.32-1ubuntu1) ...\n",
            "Processing triggers for man-db (2.8.3-2ubuntu0.1) ...\n",
            "Processing triggers for libc-bin (2.27-3ubuntu1.3) ...\n",
            "/sbin/ldconfig.real: /usr/local/lib/python3.7/dist-packages/ideep4py/lib/libmkldnn.so.0 is not a symbolic link\n",
            "\n",
            "Collecting pygraphviz\n",
            "  Downloading pygraphviz-1.7.zip (118 kB)\n",
            "\u001b[K     |████████████████████████████████| 118 kB 12.4 MB/s \n",
            "\u001b[?25hBuilding wheels for collected packages: pygraphviz\n",
            "  Building wheel for pygraphviz (setup.py) ... \u001b[?25l\u001b[?25hdone\n",
            "  Created wheel for pygraphviz: filename=pygraphviz-1.7-cp37-cp37m-linux_x86_64.whl size=165751 sha256=7e36858badc9c45d73076882aeb0393860c0665b15a1b0112d99b40d93d241cb\n",
            "  Stored in directory: /root/.cache/pip/wheels/8c/bc/0c/ac35392b72556e75107ff610cb31b313e8471918a6d280e34c\n",
            "Successfully built pygraphviz\n",
            "Installing collected packages: pygraphviz\n",
            "Successfully installed pygraphviz-1.7\n"
          ]
        }
      ]
    },
    {
      "cell_type": "code",
      "source": [
        "\n",
        "import seaborn as sns\n",
        "from sklearn.preprocessing import PolynomialFeatures\n",
        "from sklearn.linear_model import LassoCV\n",
        "from sklearn.ensemble import GradientBoostingRegressor\n",
        "import matplotlib.pyplot as plt\n",
        "import numpy as np\n"
      ],
      "metadata": {
        "id": "pmRMH5xeKFAf"
      },
      "execution_count": null,
      "outputs": []
    },
    {
      "cell_type": "code",
      "source": [
        "from dowhy import CausalModel\n",
        "import dowhy.datasets\n",
        "import numpy as np\n",
        "import pandas as pd\n",
        "import warnings\n",
        "from sklearn.exceptions import DataConversionWarning\n",
        "from IPython.display import Image, display\n",
        "\n",
        "warnings.filterwarnings(action='ignore', category=DataConversionWarning)\n",
        "warnings.filterwarnings(action='ignore', category=FutureWarning)\n",
        "\n",
        "# Config dict to set the logging level\n",
        "import logging\n",
        "import logging.config\n",
        "\n",
        "DEFAULT_LOGGING = {\n",
        "    'version': 1,\n",
        "    'disable_existing_loggers': False,\n",
        "    'loggers': {\n",
        "        '': {\n",
        "            'level': 'WARN',\n",
        "        },\n",
        "    }\n",
        "}\n",
        "\n",
        "logging.config.dictConfig(DEFAULT_LOGGING)\n",
        "logging.info(\"Getting started with DoWhy. Running notebook...\")"
      ],
      "metadata": {
        "id": "Gj95snDrKP4O"
      },
      "execution_count": null,
      "outputs": []
    },
    {
      "cell_type": "code",
      "source": [
        "dot_graph ='digraph{ creat_type_cd->label; adv_prim_id->label;dev_id->label;inter_type_cd->label; slot_id->label; spread_app_id->label; tags->label;'\\\n",
        "      'app_first_class->label; app_second_class->label; age->label; city->label; city_rank->label;'\\\n",
        "       'device_name->label; device_size->label; career->label; gender->label; net_type->label;'\\\n",
        "       'residence->label; his_app_size->label; his_on_shelf_time->label; app_score->label;'\\\n",
        "       'emui_dev->label; list_time->label; device_price->label; up_life_duration->label;'\\\n",
        "       'up_membership_grade->label; membership_life_duration->label; consume_purchase->label;'\\\n",
        "       'communication_avgonline_30d->label; indu_name->label;'\\\n",
        "       'pt_d->label}'"
      ],
      "metadata": {
        "id": "14mwhs9tL1PM"
      },
      "execution_count": null,
      "outputs": []
    },
    {
      "cell_type": "code",
      "source": [
        "model=CausalModel(\n",
        "        data = newdf,\n",
        "        treatment='dev_id',\n",
        "        outcome='label',\n",
        "        graph=dot_graph\n",
        "        )\n",
        "model.view_model()\n",
        "\n",
        "\n",
        "display(Image(filename=\"causal_model.png\"))"
      ],
      "metadata": {
        "colab": {
          "base_uri": "https://localhost:8080/",
          "height": 52
        },
        "id": "ymzJLHWzKySN",
        "outputId": "8bc6d072-d858-471a-f037-00f6797434f6"
      },
      "execution_count": null,
      "outputs": [
        {
          "output_type": "display_data",
          "data": {
            "text/plain": [
              "<IPython.core.display.Image object>"
            ],
            "image/png": "[encoded data removed]"
          },
          "metadata": {}
        }
      ]
    },
    {
      "cell_type": "code",
      "source": [
        "colname"
      ],
      "metadata": {
        "colab": {
          "base_uri": "https://localhost:8080/"
        },
        "id": "2vQvRCvUPjXt",
        "outputId": "96a89a07-1424-45ac-cc1f-82a6833f47ab"
      },
      "execution_count": null,
      "outputs": [
        {
          "output_type": "execute_result",
          "data": {
            "text/plain": [
              "Index(['Unnamed: 0', 'label', 'uid', 'task_id', 'adv_id', 'creat_type_cd',\n",
              "       'adv_prim_id', 'dev_id', 'inter_type_cd', 'slot_id', 'spread_app_id',\n",
              "       'tags', 'app_first_class', 'app_second_class', 'age', 'city',\n",
              "       'city_rank', 'device_name', 'device_size', 'career', 'gender',\n",
              "       'net_type', 'residence', 'his_app_size', 'his_on_shelf_time',\n",
              "       'app_score', 'emui_dev', 'list_time', 'device_price',\n",
              "       'up_life_duration', 'up_membership_grade', 'membership_life_duration',\n",
              "       'consume_purchase', 'communication_avgonline_30d', 'indu_name', 'pt_d'],\n",
              "      dtype='object')"
            ]
          },
          "metadata": {},
          "execution_count": 55
        }
      ]
    },
    {
      "cell_type": "code",
      "source": [
        "treatment_text=['creat_type_cd', 'adv_prim_id','dev_id', 'inter_type_cd', 'slot_id', 'spread_app_id', 'tags',\n",
        "       'app_first_class', 'app_second_class', 'age', 'city', 'city_rank',\n",
        "       'device_name', 'device_size', 'career', 'gender', 'net_type',\n",
        "       'residence', 'his_app_size', 'his_on_shelf_time', 'app_score',\n",
        "       'emui_dev', 'list_time', 'device_price', 'up_life_duration',\n",
        "       'up_membership_grade', 'membership_life_duration', 'consume_purchase',\n",
        "      'communication_avgonline_30d', 'indu_name',\n",
        "       'pt_d']\n",
        "new_eff=np.zeros(np.size(treatment_text))\n",
        "estimated_eff=np.zeros(np.size(treatment_text))"
      ],
      "metadata": {
        "id": "GN4hem9qK8xP",
        "colab": {
          "base_uri": "https://localhost:8080/",
          "height": 218
        },
        "outputId": "2973befd-a01b-46b2-b878-be368bad33c2"
      },
      "execution_count": null,
      "outputs": [
        {
          "output_type": "error",
          "ename": "NameError",
          "evalue": "ignored",
          "traceback": [
            "\u001b[0;31m---------------------------------------------------------------------------\u001b[0m",
            "\u001b[0;31mNameError\u001b[0m                                 Traceback (most recent call last)",
            "\u001b[0;32m<ipython-input-1-63bc6d836f4b>\u001b[0m in \u001b[0;36m<module>\u001b[0;34m()\u001b[0m\n\u001b[1;32m      7\u001b[0m       \u001b[0;34m'communication_avgonline_30d'\u001b[0m\u001b[0;34m,\u001b[0m \u001b[0;34m'indu_name'\u001b[0m\u001b[0;34m,\u001b[0m\u001b[0;34m\u001b[0m\u001b[0;34m\u001b[0m\u001b[0m\n\u001b[1;32m      8\u001b[0m        'pt_d']\n\u001b[0;32m----> 9\u001b[0;31m \u001b[0mnew_eff\u001b[0m\u001b[0;34m=\u001b[0m\u001b[0mnp\u001b[0m\u001b[0;34m.\u001b[0m\u001b[0mzeros\u001b[0m\u001b[0;34m(\u001b[0m\u001b[0mnp\u001b[0m\u001b[0;34m.\u001b[0m\u001b[0msize\u001b[0m\u001b[0;34m(\u001b[0m\u001b[0mtreatment_text\u001b[0m\u001b[0;34m)\u001b[0m\u001b[0;34m)\u001b[0m\u001b[0;34m\u001b[0m\u001b[0;34m\u001b[0m\u001b[0m\n\u001b[0m\u001b[1;32m     10\u001b[0m \u001b[0mestimated_eff\u001b[0m\u001b[0;34m=\u001b[0m\u001b[0mnp\u001b[0m\u001b[0;34m.\u001b[0m\u001b[0mzeros\u001b[0m\u001b[0;34m(\u001b[0m\u001b[0mnp\u001b[0m\u001b[0;34m.\u001b[0m\u001b[0msize\u001b[0m\u001b[0;34m(\u001b[0m\u001b[0mtreatment_text\u001b[0m\u001b[0;34m)\u001b[0m\u001b[0;34m)\u001b[0m\u001b[0;34m\u001b[0m\u001b[0;34m\u001b[0m\u001b[0m\n",
            "\u001b[0;31mNameError\u001b[0m: name 'np' is not defined"
          ]
        }
      ]
    },
    {
      "cell_type": "code",
      "source": [
        "treatment_text[17]"
      ],
      "metadata": {
        "colab": {
          "base_uri": "https://localhost:8080/",
          "height": 35
        },
        "id": "EI0nBv_YY3Gx",
        "outputId": "05eb9767-9f77-4536-cd12-bee7f754663b"
      },
      "execution_count": null,
      "outputs": [
        {
          "output_type": "execute_result",
          "data": {
            "text/plain": [
              "'residence'"
            ],
            "application/vnd.google.colaboratory.intrinsic+json": {
              "type": "string"
            }
          },
          "metadata": {},
          "execution_count": 7
        }
      ]
    },
    {
      "cell_type": "code",
      "source": [
        "newdf"
      ],
      "metadata": {
        "colab": {
          "base_uri": "https://localhost:8080/",
          "height": 505
        },
        "id": "FGptmodUOVl4",
        "outputId": "d42e8312-e1af-4376-e746-e2c70ebd6550"
      },
      "execution_count": null,
      "outputs": [
        {
          "output_type": "execute_result",
          "data": {
            "text/plain": [
              "       Unnamed: 0  label      uid  task_id  adv_id  creat_type_cd  \\\n",
              "4304         4304      1  1415478     1086    6422              3   \n",
              "11037       11037      0  1581804     3434    3412              7   \n",
              "11412       11412      0  1050663     2361    5555              3   \n",
              "5480         5480      1  1869584     4335    5710              6   \n",
              "9397         9397      0  1924985     5946    1657              7   \n",
              "...           ...    ...      ...      ...     ...            ...   \n",
              "3143         3143      1  1833387     2389    5768              7   \n",
              "7368         7368      0  2094224     2211    4079              8   \n",
              "12365       12365      0  1602443     2183    4262              7   \n",
              "12809       12809      0  1647397     2269    2674              7   \n",
              "9413         9413      0  2097968     4683    4353              7   \n",
              "\n",
              "       adv_prim_id  dev_id  inter_type_cd  slot_id  ...  emui_dev  list_time  \\\n",
              "4304           142      36              5       17  ...        27         12   \n",
              "11037          156      60              5       13  ...        12          9   \n",
              "11412          142      36              5       17  ...        20          8   \n",
              "5480           150      17              5       18  ...        14         14   \n",
              "9397           110      38              5       17  ...        12          9   \n",
              "...            ...     ...            ...      ...  ...       ...        ...   \n",
              "3143           177      56              5       12  ...        20         16   \n",
              "7368           142      60              5       17  ...        20          4   \n",
              "12365          207      17              5       16  ...        14          8   \n",
              "12809          144      43              5       16  ...        12          9   \n",
              "9413           207      17              5       17  ...        20          4   \n",
              "\n",
              "       device_price  up_life_duration  up_membership_grade  \\\n",
              "4304              4                16                   -1   \n",
              "11037             3                20                    1   \n",
              "11412             4                18                   -1   \n",
              "5480              2                 9                   -1   \n",
              "9397              3                20                   -1   \n",
              "...             ...               ...                  ...   \n",
              "3143              1                14                   -1   \n",
              "7368              4                -1                   -1   \n",
              "12365             4                -1                   -1   \n",
              "12809             4                20                   -1   \n",
              "9413              4                -1                   -1   \n",
              "\n",
              "       membership_life_duration  consume_purchase  \\\n",
              "4304                         -1                 2   \n",
              "11037                        -1                 2   \n",
              "11412                        -1                 2   \n",
              "5480                         -1                 2   \n",
              "9397                         -1                 2   \n",
              "...                         ...               ...   \n",
              "3143                         -1                 2   \n",
              "7368                         -1                 2   \n",
              "12365                        -1                 2   \n",
              "12809                        -1                 2   \n",
              "9413                         -1                 2   \n",
              "\n",
              "       communication_avgonline_30d  indu_name  pt_d  \n",
              "4304                            11         42     3  \n",
              "11037                           13         24     2  \n",
              "11412                           13         42     3  \n",
              "5480                             7         36     4  \n",
              "9397                            12         30     4  \n",
              "...                            ...        ...   ...  \n",
              "3143                            13         17     5  \n",
              "7368                            12         42     1  \n",
              "12365                           11         17     4  \n",
              "12809                           10         18     4  \n",
              "9413                            12         17     4  \n",
              "\n",
              "[500 rows x 36 columns]"
            ],
            "text/html": [
              "\n",
              "  <div id=\"df-77bbc306-05c6-4bba-81e1-93ebe7c9d8ed\">\n",
              "    <div class=\"colab-df-container\">\n",
              "      <div>\n",
              "<style scoped>\n",
              "    .dataframe tbody tr th:only-of-type {\n",
              "        vertical-align: middle;\n",
              "    }\n",
              "\n",
              "    .dataframe tbody tr th {\n",
              "        vertical-align: top;\n",
              "    }\n",
              "\n",
              "    .dataframe thead th {\n",
              "        text-align: right;\n",
              "    }\n",
              "</style>\n",
              "<table border=\"1\" class=\"dataframe\">\n",
              "  <thead>\n",
              "    <tr style=\"text-align: right;\">\n",
              "      <th></th>\n",
              "      <th>Unnamed: 0</th>\n",
              "      <th>label</th>\n",
              "      <th>uid</th>\n",
              "      <th>task_id</th>\n",
              "      <th>adv_id</th>\n",
              "      <th>creat_type_cd</th>\n",
              "      <th>adv_prim_id</th>\n",
              "      <th>dev_id</th>\n",
              "      <th>inter_type_cd</th>\n",
              "      <th>slot_id</th>\n",
              "      <th>...</th>\n",
              "      <th>emui_dev</th>\n",
              "      <th>list_time</th>\n",
              "      <th>device_price</th>\n",
              "      <th>up_life_duration</th>\n",
              "      <th>up_membership_grade</th>\n",
              "      <th>membership_life_duration</th>\n",
              "      <th>consume_purchase</th>\n",
              "      <th>communication_avgonline_30d</th>\n",
              "      <th>indu_name</th>\n",
              "      <th>pt_d</th>\n",
              "    </tr>\n",
              "  </thead>\n",
              "  <tbody>\n",
              "    <tr>\n",
              "      <th>4304</th>\n",
              "      <td>4304</td>\n",
              "      <td>1</td>\n",
              "      <td>1415478</td>\n",
              "      <td>1086</td>\n",
              "      <td>6422</td>\n",
              "      <td>3</td>\n",
              "      <td>142</td>\n",
              "      <td>36</td>\n",
              "      <td>5</td>\n",
              "      <td>17</td>\n",
              "      <td>...</td>\n",
              "      <td>27</td>\n",
              "      <td>12</td>\n",
              "      <td>4</td>\n",
              "      <td>16</td>\n",
              "      <td>-1</td>\n",
              "      <td>-1</td>\n",
              "      <td>2</td>\n",
              "      <td>11</td>\n",
              "      <td>42</td>\n",
              "      <td>3</td>\n",
              "    </tr>\n",
              "    <tr>\n",
              "      <th>11037</th>\n",
              "      <td>11037</td>\n",
              "      <td>0</td>\n",
              "      <td>1581804</td>\n",
              "      <td>3434</td>\n",
              "      <td>3412</td>\n",
              "      <td>7</td>\n",
              "      <td>156</td>\n",
              "      <td>60</td>\n",
              "      <td>5</td>\n",
              "      <td>13</td>\n",
              "      <td>...</td>\n",
              "      <td>12</td>\n",
              "      <td>9</td>\n",
              "      <td>3</td>\n",
              "      <td>20</td>\n",
              "      <td>1</td>\n",
              "      <td>-1</td>\n",
              "      <td>2</td>\n",
              "      <td>13</td>\n",
              "      <td>24</td>\n",
              "      <td>2</td>\n",
              "    </tr>\n",
              "    <tr>\n",
              "      <th>11412</th>\n",
              "      <td>11412</td>\n",
              "      <td>0</td>\n",
              "      <td>1050663</td>\n",
              "      <td>2361</td>\n",
              "      <td>5555</td>\n",
              "      <td>3</td>\n",
              "      <td>142</td>\n",
              "      <td>36</td>\n",
              "      <td>5</td>\n",
              "      <td>17</td>\n",
              "      <td>...</td>\n",
              "      <td>20</td>\n",
              "      <td>8</td>\n",
              "      <td>4</td>\n",
              "      <td>18</td>\n",
              "      <td>-1</td>\n",
              "      <td>-1</td>\n",
              "      <td>2</td>\n",
              "      <td>13</td>\n",
              "      <td>42</td>\n",
              "      <td>3</td>\n",
              "    </tr>\n",
              "    <tr>\n",
              "      <th>5480</th>\n",
              "      <td>5480</td>\n",
              "      <td>1</td>\n",
              "      <td>1869584</td>\n",
              "      <td>4335</td>\n",
              "      <td>5710</td>\n",
              "      <td>6</td>\n",
              "      <td>150</td>\n",
              "      <td>17</td>\n",
              "      <td>5</td>\n",
              "      <td>18</td>\n",
              "      <td>...</td>\n",
              "      <td>14</td>\n",
              "      <td>14</td>\n",
              "      <td>2</td>\n",
              "      <td>9</td>\n",
              "      <td>-1</td>\n",
              "      <td>-1</td>\n",
              "      <td>2</td>\n",
              "      <td>7</td>\n",
              "      <td>36</td>\n",
              "      <td>4</td>\n",
              "    </tr>\n",
              "    <tr>\n",
              "      <th>9397</th>\n",
              "      <td>9397</td>\n",
              "      <td>0</td>\n",
              "      <td>1924985</td>\n",
              "      <td>5946</td>\n",
              "      <td>1657</td>\n",
              "      <td>7</td>\n",
              "      <td>110</td>\n",
              "      <td>38</td>\n",
              "      <td>5</td>\n",
              "      <td>17</td>\n",
              "      <td>...</td>\n",
              "      <td>12</td>\n",
              "      <td>9</td>\n",
              "      <td>3</td>\n",
              "      <td>20</td>\n",
              "      <td>-1</td>\n",
              "      <td>-1</td>\n",
              "      <td>2</td>\n",
              "      <td>12</td>\n",
              "      <td>30</td>\n",
              "      <td>4</td>\n",
              "    </tr>\n",
              "    <tr>\n",
              "      <th>...</th>\n",
              "      <td>...</td>\n",
              "      <td>...</td>\n",
              "      <td>...</td>\n",
              "      <td>...</td>\n",
              "      <td>...</td>\n",
              "      <td>...</td>\n",
              "      <td>...</td>\n",
              "      <td>...</td>\n",
              "      <td>...</td>\n",
              "      <td>...</td>\n",
              "      <td>...</td>\n",
              "      <td>...</td>\n",
              "      <td>...</td>\n",
              "      <td>...</td>\n",
              "      <td>...</td>\n",
              "      <td>...</td>\n",
              "      <td>...</td>\n",
              "      <td>...</td>\n",
              "      <td>...</td>\n",
              "      <td>...</td>\n",
              "      <td>...</td>\n",
              "    </tr>\n",
              "    <tr>\n",
              "      <th>3143</th>\n",
              "      <td>3143</td>\n",
              "      <td>1</td>\n",
              "      <td>1833387</td>\n",
              "      <td>2389</td>\n",
              "      <td>5768</td>\n",
              "      <td>7</td>\n",
              "      <td>177</td>\n",
              "      <td>56</td>\n",
              "      <td>5</td>\n",
              "      <td>12</td>\n",
              "      <td>...</td>\n",
              "      <td>20</td>\n",
              "      <td>16</td>\n",
              "      <td>1</td>\n",
              "      <td>14</td>\n",
              "      <td>-1</td>\n",
              "      <td>-1</td>\n",
              "      <td>2</td>\n",
              "      <td>13</td>\n",
              "      <td>17</td>\n",
              "      <td>5</td>\n",
              "    </tr>\n",
              "    <tr>\n",
              "      <th>7368</th>\n",
              "      <td>7368</td>\n",
              "      <td>0</td>\n",
              "      <td>2094224</td>\n",
              "      <td>2211</td>\n",
              "      <td>4079</td>\n",
              "      <td>8</td>\n",
              "      <td>142</td>\n",
              "      <td>60</td>\n",
              "      <td>5</td>\n",
              "      <td>17</td>\n",
              "      <td>...</td>\n",
              "      <td>20</td>\n",
              "      <td>4</td>\n",
              "      <td>4</td>\n",
              "      <td>-1</td>\n",
              "      <td>-1</td>\n",
              "      <td>-1</td>\n",
              "      <td>2</td>\n",
              "      <td>12</td>\n",
              "      <td>42</td>\n",
              "      <td>1</td>\n",
              "    </tr>\n",
              "    <tr>\n",
              "      <th>12365</th>\n",
              "      <td>12365</td>\n",
              "      <td>0</td>\n",
              "      <td>1602443</td>\n",
              "      <td>2183</td>\n",
              "      <td>4262</td>\n",
              "      <td>7</td>\n",
              "      <td>207</td>\n",
              "      <td>17</td>\n",
              "      <td>5</td>\n",
              "      <td>16</td>\n",
              "      <td>...</td>\n",
              "      <td>14</td>\n",
              "      <td>8</td>\n",
              "      <td>4</td>\n",
              "      <td>-1</td>\n",
              "      <td>-1</td>\n",
              "      <td>-1</td>\n",
              "      <td>2</td>\n",
              "      <td>11</td>\n",
              "      <td>17</td>\n",
              "      <td>4</td>\n",
              "    </tr>\n",
              "    <tr>\n",
              "      <th>12809</th>\n",
              "      <td>12809</td>\n",
              "      <td>0</td>\n",
              "      <td>1647397</td>\n",
              "      <td>2269</td>\n",
              "      <td>2674</td>\n",
              "      <td>7</td>\n",
              "      <td>144</td>\n",
              "      <td>43</td>\n",
              "      <td>5</td>\n",
              "      <td>16</td>\n",
              "      <td>...</td>\n",
              "      <td>12</td>\n",
              "      <td>9</td>\n",
              "      <td>4</td>\n",
              "      <td>20</td>\n",
              "      <td>-1</td>\n",
              "      <td>-1</td>\n",
              "      <td>2</td>\n",
              "      <td>10</td>\n",
              "      <td>18</td>\n",
              "      <td>4</td>\n",
              "    </tr>\n",
              "    <tr>\n",
              "      <th>9413</th>\n",
              "      <td>9413</td>\n",
              "      <td>0</td>\n",
              "      <td>2097968</td>\n",
              "      <td>4683</td>\n",
              "      <td>4353</td>\n",
              "      <td>7</td>\n",
              "      <td>207</td>\n",
              "      <td>17</td>\n",
              "      <td>5</td>\n",
              "      <td>17</td>\n",
              "      <td>...</td>\n",
              "      <td>20</td>\n",
              "      <td>4</td>\n",
              "      <td>4</td>\n",
              "      <td>-1</td>\n",
              "      <td>-1</td>\n",
              "      <td>-1</td>\n",
              "      <td>2</td>\n",
              "      <td>12</td>\n",
              "      <td>17</td>\n",
              "      <td>4</td>\n",
              "    </tr>\n",
              "  </tbody>\n",
              "</table>\n",
              "<p>500 rows × 36 columns</p>\n",
              "</div>\n",
              "      <button class=\"colab-df-convert\" onclick=\"convertToInteractive('df-77bbc306-05c6-4bba-81e1-93ebe7c9d8ed')\"\n",
              "              title=\"Convert this dataframe to an interactive table.\"\n",
              "              style=\"display:none;\">\n",
              "        \n",
              "  <svg xmlns=\"http://www.w3.org/2000/svg\" height=\"24px\"viewBox=\"0 0 24 24\"\n",
              "       width=\"24px\">\n",
              "    <path d=\"M0 0h24v24H0V0z\" fill=\"none\"/>\n",
              "    <path d=\"M18.56 5.44l.94 2.06.94-2.06 2.06-.94-2.06-.94-.94-2.06-.94 2.06-2.06.94zm-11 1L8.5 8.5l.94-2.06 2.06-.94-2.06-.94L8.5 2.5l-.94 2.06-2.06.94zm10 10l.94 2.06.94-2.06 2.06-.94-2.06-.94-.94-2.06-.94 2.06-2.06.94z\"/><path d=\"M17.41 7.96l-1.37-1.37c-.4-.4-.92-.59-1.43-.59-.52 0-1.04.2-1.43.59L10.3 9.45l-7.72 7.72c-.78.78-.78 2.05 0 2.83L4 21.41c.39.39.9.59 1.41.59.51 0 1.02-.2 1.41-.59l7.78-7.78 2.81-2.81c.8-.78.8-2.07 0-2.86zM5.41 20L4 18.59l7.72-7.72 1.47 1.35L5.41 20z\"/>\n",
              "  </svg>\n",
              "      </button>\n",
              "      \n",
              "  <style>\n",
              "    .colab-df-container {\n",
              "      display:flex;\n",
              "      flex-wrap:wrap;\n",
              "      gap: 12px;\n",
              "    }\n",
              "\n",
              "    .colab-df-convert {\n",
              "      background-color: #E8F0FE;\n",
              "      border: none;\n",
              "      border-radius: 50%;\n",
              "      cursor: pointer;\n",
              "      display: none;\n",
              "      fill: #1967D2;\n",
              "      height: 32px;\n",
              "      padding: 0 0 0 0;\n",
              "      width: 32px;\n",
              "    }\n",
              "\n",
              "    .colab-df-convert:hover {\n",
              "      background-color: #E2EBFA;\n",
              "      box-shadow: 0px 1px 2px rgba(60, 64, 67, 0.3), 0px 1px 3px 1px rgba(60, 64, 67, 0.15);\n",
              "      fill: #174EA6;\n",
              "    }\n",
              "\n",
              "    [theme=dark] .colab-df-convert {\n",
              "      background-color: #3B4455;\n",
              "      fill: #D2E3FC;\n",
              "    }\n",
              "\n",
              "    [theme=dark] .colab-df-convert:hover {\n",
              "      background-color: #434B5C;\n",
              "      box-shadow: 0px 1px 3px 1px rgba(0, 0, 0, 0.15);\n",
              "      filter: drop-shadow(0px 1px 2px rgba(0, 0, 0, 0.3));\n",
              "      fill: #FFFFFF;\n",
              "    }\n",
              "  </style>\n",
              "\n",
              "      <script>\n",
              "        const buttonEl =\n",
              "          document.querySelector('#df-77bbc306-05c6-4bba-81e1-93ebe7c9d8ed button.colab-df-convert');\n",
              "        buttonEl.style.display =\n",
              "          google.colab.kernel.accessAllowed ? 'block' : 'none';\n",
              "\n",
              "        async function convertToInteractive(key) {\n",
              "          const element = document.querySelector('#df-77bbc306-05c6-4bba-81e1-93ebe7c9d8ed');\n",
              "          const dataTable =\n",
              "            await google.colab.kernel.invokeFunction('convertToInteractive',\n",
              "                                                     [key], {});\n",
              "          if (!dataTable) return;\n",
              "\n",
              "          const docLinkHtml = 'Like what you see? Visit the ' +\n",
              "            '<a target=\"_blank\" href=https://colab.research.google.com/notebooks/data_table.ipynb>data table notebook</a>'\n",
              "            + ' to learn more about interactive tables.';\n",
              "          element.innerHTML = '';\n",
              "          dataTable['output_type'] = 'display_data';\n",
              "          await google.colab.output.renderOutput(dataTable, element);\n",
              "          const docLink = document.createElement('div');\n",
              "          docLink.innerHTML = docLinkHtml;\n",
              "          element.appendChild(docLink);\n",
              "        }\n",
              "      </script>\n",
              "    </div>\n",
              "  </div>\n",
              "  "
            ]
          },
          "metadata": {},
          "execution_count": 19
        }
      ]
    },
    {
      "cell_type": "code",
      "source": [
        "\n",
        "for i in range(np.size(treatment_text)):\n",
        "\n",
        "  model=CausalModel(\n",
        "        data = newdf,\n",
        "        treatment=treatment_text[i],\n",
        "        outcome='label',\n",
        "        graph=dot_graph\n",
        "        )\n",
        "\n",
        "  #model.view_model()\n",
        "  \n",
        "  identified_estimand = model.identify_effect(proceed_when_unidentifiable=True)\n",
        "  causal_estimate = model.estimate_effect(identified_estimand, method_name=\"backdoor.linear_regression\", test_significance=True)\n",
        "  refutation = model.refute_estimate(identified_estimand, causal_estimate, method_name=\"placebo_treatment_refuter\",\n",
        "                                  placebo_type=\"permute\", num_simulations=20)\n",
        "  new_eff[i]=refutation.new_effect\n",
        "  estimated_eff[i]=refutation.estimated_effect"
      ],
      "metadata": {
        "colab": {
          "base_uri": "https://localhost:8080/"
        },
        "id": "tCrgbwiONXVp",
        "outputId": "d12ef38e-54c4-4ff5-d361-d89bddceeab2"
      },
      "execution_count": null,
      "outputs": [
        {
          "output_type": "stream",
          "name": "stderr",
          "text": [
            "WARNING:dowhy.causal_refuters.placebo_treatment_refuter:We assume a Normal Distribution as the sample has less than 100 examples.\n",
            "                 Note: The underlying distribution may not be Normal. We assume that it approaches normal with the increase in sample size.\n",
            "WARNING:dowhy.causal_refuters.placebo_treatment_refuter:We assume a Normal Distribution as the sample has less than 100 examples.\n",
            "                 Note: The underlying distribution may not be Normal. We assume that it approaches normal with the increase in sample size.\n",
            "WARNING:dowhy.causal_refuters.placebo_treatment_refuter:We assume a Normal Distribution as the sample has less than 100 examples.\n",
            "                 Note: The underlying distribution may not be Normal. We assume that it approaches normal with the increase in sample size.\n",
            "WARNING:dowhy.causal_refuters.placebo_treatment_refuter:We assume a Normal Distribution as the sample has less than 100 examples.\n",
            "                 Note: The underlying distribution may not be Normal. We assume that it approaches normal with the increase in sample size.\n",
            "WARNING:dowhy.causal_refuters.placebo_treatment_refuter:We assume a Normal Distribution as the sample has less than 100 examples.\n",
            "                 Note: The underlying distribution may not be Normal. We assume that it approaches normal with the increase in sample size.\n",
            "WARNING:dowhy.causal_refuters.placebo_treatment_refuter:We assume a Normal Distribution as the sample has less than 100 examples.\n",
            "                 Note: The underlying distribution may not be Normal. We assume that it approaches normal with the increase in sample size.\n",
            "WARNING:dowhy.causal_refuters.placebo_treatment_refuter:We assume a Normal Distribution as the sample has less than 100 examples.\n",
            "                 Note: The underlying distribution may not be Normal. We assume that it approaches normal with the increase in sample size.\n",
            "WARNING:dowhy.causal_refuters.placebo_treatment_refuter:We assume a Normal Distribution as the sample has less than 100 examples.\n",
            "                 Note: The underlying distribution may not be Normal. We assume that it approaches normal with the increase in sample size.\n",
            "WARNING:dowhy.causal_refuters.placebo_treatment_refuter:We assume a Normal Distribution as the sample has less than 100 examples.\n",
            "                 Note: The underlying distribution may not be Normal. We assume that it approaches normal with the increase in sample size.\n",
            "WARNING:dowhy.causal_refuters.placebo_treatment_refuter:We assume a Normal Distribution as the sample has less than 100 examples.\n",
            "                 Note: The underlying distribution may not be Normal. We assume that it approaches normal with the increase in sample size.\n",
            "WARNING:dowhy.causal_refuters.placebo_treatment_refuter:We assume a Normal Distribution as the sample has less than 100 examples.\n",
            "                 Note: The underlying distribution may not be Normal. We assume that it approaches normal with the increase in sample size.\n",
            "WARNING:dowhy.causal_refuters.placebo_treatment_refuter:We assume a Normal Distribution as the sample has less than 100 examples.\n",
            "                 Note: The underlying distribution may not be Normal. We assume that it approaches normal with the increase in sample size.\n",
            "WARNING:dowhy.causal_refuters.placebo_treatment_refuter:We assume a Normal Distribution as the sample has less than 100 examples.\n",
            "                 Note: The underlying distribution may not be Normal. We assume that it approaches normal with the increase in sample size.\n",
            "WARNING:dowhy.causal_refuters.placebo_treatment_refuter:We assume a Normal Distribution as the sample has less than 100 examples.\n",
            "                 Note: The underlying distribution may not be Normal. We assume that it approaches normal with the increase in sample size.\n",
            "WARNING:dowhy.causal_refuters.placebo_treatment_refuter:We assume a Normal Distribution as the sample has less than 100 examples.\n",
            "                 Note: The underlying distribution may not be Normal. We assume that it approaches normal with the increase in sample size.\n",
            "WARNING:dowhy.causal_refuters.placebo_treatment_refuter:We assume a Normal Distribution as the sample has less than 100 examples.\n",
            "                 Note: The underlying distribution may not be Normal. We assume that it approaches normal with the increase in sample size.\n",
            "WARNING:dowhy.causal_refuters.placebo_treatment_refuter:We assume a Normal Distribution as the sample has less than 100 examples.\n",
            "                 Note: The underlying distribution may not be Normal. We assume that it approaches normal with the increase in sample size.\n",
            "WARNING:dowhy.causal_refuters.placebo_treatment_refuter:We assume a Normal Distribution as the sample has less than 100 examples.\n",
            "                 Note: The underlying distribution may not be Normal. We assume that it approaches normal with the increase in sample size.\n",
            "WARNING:dowhy.causal_refuters.placebo_treatment_refuter:We assume a Normal Distribution as the sample has less than 100 examples.\n",
            "                 Note: The underlying distribution may not be Normal. We assume that it approaches normal with the increase in sample size.\n",
            "WARNING:dowhy.causal_refuters.placebo_treatment_refuter:We assume a Normal Distribution as the sample has less than 100 examples.\n",
            "                 Note: The underlying distribution may not be Normal. We assume that it approaches normal with the increase in sample size.\n",
            "WARNING:dowhy.causal_refuters.placebo_treatment_refuter:We assume a Normal Distribution as the sample has less than 100 examples.\n",
            "                 Note: The underlying distribution may not be Normal. We assume that it approaches normal with the increase in sample size.\n",
            "WARNING:dowhy.causal_refuters.placebo_treatment_refuter:We assume a Normal Distribution as the sample has less than 100 examples.\n",
            "                 Note: The underlying distribution may not be Normal. We assume that it approaches normal with the increase in sample size.\n",
            "WARNING:dowhy.causal_refuters.placebo_treatment_refuter:We assume a Normal Distribution as the sample has less than 100 examples.\n",
            "                 Note: The underlying distribution may not be Normal. We assume that it approaches normal with the increase in sample size.\n",
            "WARNING:dowhy.causal_refuters.placebo_treatment_refuter:We assume a Normal Distribution as the sample has less than 100 examples.\n",
            "                 Note: The underlying distribution may not be Normal. We assume that it approaches normal with the increase in sample size.\n",
            "WARNING:dowhy.causal_refuters.placebo_treatment_refuter:We assume a Normal Distribution as the sample has less than 100 examples.\n",
            "                 Note: The underlying distribution may not be Normal. We assume that it approaches normal with the increase in sample size.\n",
            "WARNING:dowhy.causal_refuters.placebo_treatment_refuter:We assume a Normal Distribution as the sample has less than 100 examples.\n",
            "                 Note: The underlying distribution may not be Normal. We assume that it approaches normal with the increase in sample size.\n",
            "WARNING:dowhy.causal_refuters.placebo_treatment_refuter:We assume a Normal Distribution as the sample has less than 100 examples.\n",
            "                 Note: The underlying distribution may not be Normal. We assume that it approaches normal with the increase in sample size.\n",
            "WARNING:dowhy.causal_refuters.placebo_treatment_refuter:We assume a Normal Distribution as the sample has less than 100 examples.\n",
            "                 Note: The underlying distribution may not be Normal. We assume that it approaches normal with the increase in sample size.\n",
            "WARNING:dowhy.causal_refuters.placebo_treatment_refuter:We assume a Normal Distribution as the sample has less than 100 examples.\n",
            "                 Note: The underlying distribution may not be Normal. We assume that it approaches normal with the increase in sample size.\n",
            "WARNING:dowhy.causal_refuters.placebo_treatment_refuter:We assume a Normal Distribution as the sample has less than 100 examples.\n",
            "                 Note: The underlying distribution may not be Normal. We assume that it approaches normal with the increase in sample size.\n",
            "WARNING:dowhy.causal_refuters.placebo_treatment_refuter:We assume a Normal Distribution as the sample has less than 100 examples.\n",
            "                 Note: The underlying distribution may not be Normal. We assume that it approaches normal with the increase in sample size.\n"
          ]
        }
      ]
    },
    {
      "cell_type": "code",
      "source": [
        "new_eff"
      ],
      "metadata": {
        "colab": {
          "base_uri": "https://localhost:8080/"
        },
        "id": "dnS-KbFNgtVf",
        "outputId": "2b7e0bb8-6d0d-45ad-e78f-495a34354363"
      },
      "execution_count": null,
      "outputs": [
        {
          "output_type": "execute_result",
          "data": {
            "text/plain": [
              "array([ 1.85051262e-03,  1.97317258e-04, -6.50943336e-05,  8.44171745e-03,\n",
              "        1.07534155e-03, -1.61600666e-04,  9.38159901e-04,  2.21842221e-05,\n",
              "        5.24682463e-04,  1.38286094e-04,  4.51139090e-05,  2.96671105e-03,\n",
              "       -2.13845536e-05,  6.37596294e-05,  5.20486095e-04, -4.00457901e-03,\n",
              "       -6.43960776e-03, -7.55514088e-05,  3.66855616e-04, -3.82475201e-03,\n",
              "        3.23887497e-02,  9.16059036e-04, -1.35593824e-03,  7.65485729e-03,\n",
              "       -1.15509021e-05,  7.62754669e-03, -2.53000000e-01, -1.72404139e-04,\n",
              "        2.68059594e-03, -1.41627516e-04,  5.93746195e-04])"
            ]
          },
          "metadata": {},
          "execution_count": 79
        }
      ]
    },
    {
      "cell_type": "code",
      "source": [
        "estimated_eff"
      ],
      "metadata": {
        "colab": {
          "base_uri": "https://localhost:8080/"
        },
        "id": "bLNQhzJLgyFF",
        "outputId": "23f1ede5-784b-4563-a992-a98c1db7c98f"
      },
      "execution_count": null,
      "outputs": [
        {
          "output_type": "execute_result",
          "data": {
            "text/plain": [
              "array([-1.25407031e-01,  9.54758370e-04,  1.69014337e-03, -1.50366670e-01,\n",
              "       -2.04495392e-02, -1.03014163e-03,  1.96834370e-02, -2.17918760e-01,\n",
              "       -1.65467245e-02,  1.11968646e-02, -8.30554114e-05,  6.73745830e-03,\n",
              "        3.02232926e-04,  5.01179532e-04,  6.34401536e-03, -4.46255823e-03,\n",
              "        1.25276807e-01, -4.32226020e-03, -1.89124171e-02, -6.85651026e-02,\n",
              "       -5.54579983e-01,  4.81502781e-03,  5.01780352e-03, -5.18583374e-02,\n",
              "       -8.25663621e-03, -2.15562856e-01, -2.53000000e-01, -7.76170961e-02,\n",
              "       -1.68958518e-02,  5.34393756e-04, -6.95323359e-03])"
            ]
          },
          "metadata": {},
          "execution_count": 22
        }
      ]
    },
    {
      "cell_type": "code",
      "source": [
        "esti=np.array([[ -1.25407031e-01,  9.54758370e-04,  1.69014337e-03, -1.50366670e-01,\n",
        "       -2.04495392e-02, -1.03014163e-03,  1.96834370e-02, -2.17918760e-01,\n",
        "       -1.65467245e-02,  1.11968646e-02, -8.30554114e-05,  6.73745830e-03,\n",
        "        3.02232926e-04,  5.01179532e-04,  6.34401536e-03, -4.46255823e-03,\n",
        "        1.25276807e-01, -4.32226020e-03, -1.89124171e-02, -6.85651026e-02,\n",
        "       -5.54579983e-01,  4.81502781e-03,  5.01780352e-03, -5.18583374e-02,\n",
        "       -8.25663621e-03, -2.15562856e-01, -2.53000000e-01, -7.76170961e-02,\n",
        "       -1.68958518e-02,  5.34393756e-04, -6.95323359e-03]])\n",
        "temp1=np.array([[-3.95882099e-03, -4.66659267e-06, -4.21405471e-04,  1.23255969e-02,\n",
        "        1.85940860e-03, -2.61284366e-05, -2.67626125e-04, -5.82750753e-03,\n",
        "       -5.96268729e-04, -3.17372067e-03, -4.50965237e-05, -3.56438003e-03,\n",
        "       -3.85690149e-04, -4.15316534e-05,  4.25053266e-04,  6.52150841e-03,\n",
        "        2.99792017e-03, -1.21687536e-04, -1.73264209e-03, -1.22474376e-03,\n",
        "        1.88035109e-02,  1.80307122e-04, -1.11190353e-03, -3.17669065e-03,\n",
        "       -1.57626893e-04, -2.46548740e-02, -2.32491774e-03, -1.00404172e-02,\n",
        "       -1.73578584e-03, -2.17642774e-04, -5.15371262e-03]])\n",
        "temp2=np.array([[-5.13568769e-03,  1.11251909e-04,  2.52886160e-04, -4.70316312e-03,\n",
        "        2.03130621e-04, -2.66889834e-04, -1.20073312e-03,  1.91978516e-02,\n",
        "        1.84530408e-03, -2.51696959e-03,  5.31683021e-05,  3.92749725e-03,\n",
        "        2.15096642e-04, -3.17559458e-05,  7.84156517e-04,  2.08362394e-03,\n",
        "       -1.64371682e-02, -9.36470244e-05,  1.25647337e-04,  3.01368521e-03,\n",
        "       -2.11040653e-02,  5.50563565e-04, -3.47901718e-04, -8.50737089e-04,\n",
        "       -2.67273135e-04,  9.26754290e-03, -2.53000000e-01,  2.86352869e-03,\n",
        "       -9.63604513e-03,  2.69180907e-04,  6.33667118e-04]])\n",
        "temp3=np.array([[4.62308046e-03,  2.94010200e-05,  8.27119272e-05,  1.82118572e-02,\n",
        "        2.31259104e-03,  1.11585468e-04, -5.31740896e-05,  1.05423219e-02,\n",
        "        5.15761987e-04, -3.23184651e-03,  4.07299827e-05,  4.23483372e-03,\n",
        "        2.75051560e-04,  1.90333716e-05,  1.28504986e-03,  4.82726772e-03,\n",
        "        9.63402019e-03,  8.02643567e-04,  2.18766108e-04, -8.11014785e-04,\n",
        "       -4.14341305e-03,  3.63748870e-04, -7.89844258e-04,  4.14262307e-03,\n",
        "        5.85744820e-04, -3.49885824e-03, -2.53000000e-01, -2.46165747e-03,\n",
        "       -7.24279299e-03,  4.91517328e-04,  3.80035294e-04]])\n",
        "temp4=np.array([[8.19948092e-03,  2.70296366e-04, -2.13071565e-05, -1.55584211e-03,\n",
        "       -1.27000677e-03,  4.42311104e-04, -2.05038643e-04, -5.64398967e-04,\n",
        "        1.20835598e-03,  4.18174100e-04, -4.02581223e-05, -2.42182156e-03,\n",
        "        3.04330004e-05, -1.22702925e-05,  3.73623371e-03, -5.83271197e-03,\n",
        "        8.58669503e-03,  4.84535070e-07, -2.80559565e-04, -2.13003642e-03,\n",
        "       -1.22997025e-02, -2.00658067e-03,  2.24004621e-03,  2.62692705e-03,\n",
        "        3.86386951e-04,  2.53236587e-03, -2.53000000e-01,  8.21257885e-03,\n",
        "        5.99009241e-03, -7.00401553e-04, -1.71791942e-03]])\n",
        "temp5=np.array([[3.26616492e-03, -2.12709788e-04,  2.44074735e-04,  1.20924757e-02,\n",
        "       -5.41271121e-04,  1.02551074e-04,  7.37526347e-05, -3.33526967e-03,\n",
        "       -1.14035419e-03,  4.48025375e-03, -5.30477860e-05, -6.14362326e-03,\n",
        "        1.13962022e-04,  2.33367000e-05,  2.21835087e-04, -9.75754233e-03,\n",
        "        2.46359337e-02,  6.41704804e-04,  6.48624966e-04, -1.82809077e-03,\n",
        "        1.33500818e-02, -3.95171826e-04, -2.20761870e-03,  2.44348856e-03,\n",
        "        4.15567792e-04, -1.53862516e-02, -2.53000000e-01, -4.50314612e-03,\n",
        "        5.44230191e-03,  3.21318950e-04,  1.08796049e-03]])\n",
        "temp6=np.array([[6.75787031e-04,  2.79444340e-04, -5.11250564e-04,  1.24023637e-02,\n",
        "       -2.72751294e-04, -3.77635581e-05, -3.60550899e-04,  5.45898167e-03,\n",
        "        4.05431483e-04, -1.68357431e-05,  7.04512058e-05, -5.54614105e-03,\n",
        "        1.49132246e-05,  2.50355941e-04, -1.96362301e-03,  4.86567559e-03,\n",
        "        2.90147602e-03,  1.20981049e-04, -6.01744123e-05,  1.44118527e-03,\n",
        "        3.95823925e-03,  1.98729358e-03,  1.58894254e-04, -5.61247184e-04,\n",
        "       -6.18752563e-05, -6.02034472e-03, -2.53000000e-01,  1.17471636e-02,\n",
        "       -9.31948713e-04,  8.26637405e-06,  1.18523904e-03]])\n",
        "temp7=np.array([[-6.12200622e-04,  3.94015750e-05,  2.85378035e-04, -1.16604419e-02,\n",
        "       -2.49400080e-03,  1.43006970e-04,  1.20418076e-04,  3.25778134e-03,\n",
        "        1.62112770e-03,  4.54979098e-03,  1.32118425e-05, -5.77109316e-03,\n",
        "        5.43310001e-04, -1.18109305e-04,  3.05631402e-03,  8.45062895e-03,\n",
        "       -1.05381705e-03, -1.47415988e-04,  5.60856351e-04,  2.95134889e-03,\n",
        "       -1.90492870e-03,  1.82741936e-04, -5.65070807e-04, -2.05551676e-03,\n",
        "       -6.87224986e-05,  2.69841642e-03, -2.53000000e-01, -3.47152701e-03,\n",
        "       -5.22679783e-04,  4.44272962e-04,  1.54248357e-03]])\n",
        "temp8=np.array([[-1.25040082e-04,  9.36662804e-05, -4.58259282e-04,  2.25293555e-03,\n",
        "       -9.64809249e-05, -2.11656169e-04,  3.87082629e-04,  4.52881161e-03,\n",
        "       -1.80417962e-03, -2.94571075e-03, -6.37174266e-05,  3.18895726e-03,\n",
        "       -6.77016836e-05,  1.49955874e-04,  1.17012098e-03, -7.57361800e-04,\n",
        "        1.33600684e-02,  3.17748384e-04, -8.58580529e-04, -1.24032496e-03,\n",
        "       -2.36054122e-02, -4.28701968e-05, -1.51729342e-03, -7.82203906e-03,\n",
        "       -3.34817987e-04,  1.42872327e-02, -2.53000000e-01, -5.86147897e-03,\n",
        "        8.98738673e-04, -4.95154930e-04, -2.16849324e-03]])\n",
        "temp9=np.array([[6.13165417e-04, -1.38604929e-04,  1.02711733e-04,  1.32257774e-03,\n",
        "       -3.94980953e-03,  3.49285742e-05,  3.47058271e-04,  2.23763543e-03,\n",
        "       -3.88260304e-04, -2.63662608e-03, -3.09547914e-05, -1.12136564e-02,\n",
        "       -3.80801650e-05, -8.50954133e-06, -1.31002587e-03, -3.28475938e-03,\n",
        "       -5.04435206e-03,  3.31508483e-04, -7.21290441e-04, -7.39462008e-04,\n",
        "        1.06386879e-02, -1.42814628e-03,  3.15383261e-04, -2.24442828e-04,\n",
        "       -7.08322844e-04, -6.61264348e-03, -2.53000000e-01,  3.29544213e-03,\n",
        "        4.43189035e-03, -3.73547044e-04,  2.61250316e-03]])\n",
        "temp10=np.array([[6.06257449e-03,  1.59090475e-04, -5.03650486e-05, -7.01832176e-03,\n",
        "       -1.48479355e-03, -2.12214256e-04,  7.88694610e-04,  1.42326569e-03,\n",
        "       -9.18343437e-04,  7.52790320e-04,  4.05356588e-05, -9.47388873e-03,\n",
        "       -5.21553365e-04, -3.81215406e-06, -2.41023233e-03,  6.22760253e-04,\n",
        "        2.86706023e-03,  4.52418144e-04, -5.30228137e-05, -3.42583260e-03,\n",
        "        8.17861839e-03, -9.46112455e-04, -1.22222953e-03,  2.43424202e-03,\n",
        "        4.54962281e-04,  4.69362514e-03, -2.53000000e-01,  8.43248571e-03,\n",
        "       -2.30743937e-03, -2.19323713e-05, -2.58388240e-04]])\n",
        "temp11=np.array([[5.20727043e-03, -1.11600175e-04,  2.05236302e-04,  2.06151027e-02,\n",
        "       -1.44655639e-03,  1.70824213e-04,  4.76533680e-04, -6.13391734e-03,\n",
        "        1.38261758e-04, -6.97785527e-03,  3.49757591e-05, -1.15535033e-02,\n",
        "        8.07346509e-05, -3.10124810e-04, -1.98368078e-03,  1.36716731e-04,\n",
        "        1.37699202e-02, -6.82440372e-04, -4.20939626e-04, -2.61503504e-03,\n",
        "       -1.33185599e-02,  2.43835983e-05, -3.05688440e-04,  3.29075447e-04,\n",
        "        1.35935974e-03, -1.22569353e-02, -2.53000000e-01, -2.58235202e-03,\n",
        "        1.00662604e-03,  1.68857134e-04, -4.15880386e-03]])\n",
        "temp12=np.array([[8.87154494e-03,  1.03414865e-04, -2.53350184e-04, -5.07550192e-03,\n",
        "        3.14038105e-03, -8.27406803e-05,  9.28146341e-04,  6.04155126e-03,\n",
        "        1.51758364e-04, -2.83876671e-03, -6.86879914e-05,  6.87052689e-03,\n",
        "        1.25236603e-04, -2.50829645e-04, -5.71960965e-03,  1.16923147e-02,\n",
        "       -2.75899173e-02,  3.11839752e-04,  1.51569618e-04,  4.43406816e-04,\n",
        "        1.75068680e-03,  1.38156464e-03,  3.18978978e-04, -4.69308328e-03,\n",
        "        8.61978208e-04, -1.36511678e-03, -2.53000000e-01,  1.60103456e-03,\n",
        "        4.65390439e-03,  1.17428669e-04, -2.94553263e-03]])\n",
        "temp13=np.array([[2.69191423e-03, -1.70184863e-04,  4.75432475e-06,  2.45969070e-03,\n",
        "       -2.75127889e-03, -1.51902045e-04,  9.05777088e-04, -8.03013087e-03,\n",
        "       -7.13074867e-05,  6.83322762e-04, -4.49623980e-05, -9.90802703e-03,\n",
        "        3.65774932e-04, -1.18846612e-04,  5.26875390e-04, -2.47248693e-05,\n",
        "       -1.11476032e-02, -9.20778256e-04,  1.75043130e-03, -8.55975267e-03,\n",
        "        1.78223601e-02, -3.00331787e-04,  1.25915644e-03,  1.90680428e-03,\n",
        "        6.10981017e-04,  3.21990320e-03, -2.53000000e-01, -5.27863083e-03,\n",
        "        9.57789744e-04,  6.02922062e-05,  4.64208388e-03]])\n",
        "temp14=np.array([[-3.09415577e-03, -6.85573075e-05,  3.15001225e-04,  1.58435708e-02,\n",
        "       -1.59211971e-05, -8.91814811e-05, -1.38201267e-03, -1.02863038e-02,\n",
        "       -1.75934914e-03,  3.56376029e-04,  3.80139960e-05,  5.04549284e-03,\n",
        "        5.89149472e-04, -3.20284081e-05,  1.89112465e-03,  1.65054831e-03,\n",
        "        4.25240613e-03,  1.86251970e-04, -9.09819710e-04,  6.23864209e-03,\n",
        "       -1.91896929e-02, -1.54508943e-05,  2.55044414e-04,  2.95604892e-03,\n",
        "        6.70444540e-05, -4.98741896e-03, -2.53000000e-01, -9.56415119e-03,\n",
        "       -2.79941221e-03, -1.71941776e-04,  5.51841426e-04]])\n",
        "temp15=np.array([[1.24589529e-03,  2.51956958e-04, -6.10726572e-05,  9.61558010e-03,\n",
        "       -4.89223326e-04, -2.69813180e-04,  1.65122894e-04,  9.78553020e-03,\n",
        "        1.19529890e-03,  1.53348352e-04, -4.15773931e-05,  5.79146162e-03,\n",
        "       -1.19720023e-04, -6.47891649e-05,  5.59929193e-04,  4.59241048e-03,\n",
        "        2.96659379e-03, -2.71103579e-04,  3.16379826e-04,  4.31599019e-03,\n",
        "       -2.97683726e-03,  5.97747852e-04,  1.75118867e-03,  2.88346389e-03,\n",
        "       -2.55027565e-04,  1.99917566e-03, -2.53000000e-01,  1.55194066e-03,\n",
        "        1.80318044e-03,  1.11156109e-04,  1.75785482e-03]])\n",
        "temp16=np.array([[-5.36049786e-03,  1.79828396e-04, -7.79612825e-05,  6.93945342e-03,\n",
        "       -2.57405791e-03,  2.79582090e-04, -1.34489626e-04,  6.52161406e-04,\n",
        "       -8.37534848e-04,  2.75099601e-03, -3.81977431e-05, -1.24071926e-02,\n",
        "       -1.07142140e-04, -1.94189348e-04, -1.75077194e-03, -2.44561632e-04,\n",
        "       -1.18481134e-02,  1.86831069e-04, -1.59686002e-03,  3.10651243e-04,\n",
        "        2.46187568e-02, -1.02086083e-03,  5.64031669e-04,  4.03951871e-03,\n",
        "       -5.78318019e-04, -5.14974620e-03, -2.53000000e-01,  3.48695297e-03,\n",
        "       -1.52267857e-03,  1.69443537e-04, -2.77500082e-03]])\n",
        "temp17=np.array([[2.22861391e-03, -1.41233798e-04, -3.36037712e-04, -1.72022223e-03,\n",
        "        6.23095436e-04, -2.01134533e-04, -6.49274662e-04,  5.52650456e-04,\n",
        "       -8.46987439e-04,  1.34690633e-03, -2.28913177e-05,  1.69473235e-03,\n",
        "       -2.88861263e-04,  2.03495385e-04,  7.58770520e-04, -5.54913184e-03,\n",
        "       -2.70152897e-02,  5.14893493e-04, -5.22421505e-04, -1.41262552e-03,\n",
        "        2.65789556e-03,  1.91503073e-03, -1.33172708e-03, -4.78376213e-03,\n",
        "        6.93744590e-04, -2.05644308e-02, -2.53000000e-01,  1.37005660e-02,\n",
        "       -4.05947372e-03, -2.05547325e-04, -7.02582759e-03]])\n",
        "temp18=np.array([[8.92631976e-03, -8.51930437e-05, -1.00348714e-04, -9.10722886e-03,\n",
        "        3.72803506e-03, -1.47715077e-04, -1.22298199e-04, -1.09872452e-02,\n",
        "        4.50454557e-04, -2.73695830e-03, -6.38716093e-05, -2.13926968e-03,\n",
        "        3.78806031e-05,  1.13108329e-04, -4.16795838e-03,  5.12834088e-04,\n",
        "       -2.01341034e-02,  9.77929874e-04, -2.50822867e-04,  1.60091774e-04,\n",
        "        2.30565010e-03, -1.28847558e-03,  6.88306405e-04,  1.28870413e-03,\n",
        "        1.36582988e-03,  1.58172828e-02, -2.53000000e-01,  3.90524428e-03,\n",
        "       -4.03485194e-03, -2.73483692e-04, -1.51470098e-03]])\n",
        "temp19=np.array([[-3.17133927e-03, -1.74541419e-04,  4.77493020e-04, -1.40714047e-02,\n",
        "        1.79249147e-03, -8.36497210e-05, -1.74272285e-03, -2.44309136e-03,\n",
        "        1.00781202e-03,  1.19314947e-03,  8.15771698e-05, -8.11243492e-03,\n",
        "       -3.52860472e-04,  1.01584016e-04, -3.37448830e-04, -3.50392959e-03,\n",
        "        6.32031829e-03,  4.07811346e-04,  2.67596177e-04, -2.90825040e-03,\n",
        "       -9.84932380e-03, -6.54722283e-04, -1.53873998e-03,  2.85144910e-04,\n",
        "        4.47015646e-04,  7.92134085e-04, -2.53000000e-01,  6.97155211e-03,\n",
        "       -6.92720280e-04,  5.17629768e-04, -1.40729152e-03]])\n",
        "temp20=np.array([[1.85051262e-03,  1.97317258e-04, -6.50943336e-05,  8.44171745e-03,\n",
        "        1.07534155e-03, -1.61600666e-04,  9.38159901e-04,  2.21842221e-05,\n",
        "        5.24682463e-04,  1.38286094e-04,  4.51139090e-05,  2.96671105e-03,\n",
        "       -2.13845536e-05,  6.37596294e-05,  5.20486095e-04, -4.00457901e-03,\n",
        "       -6.43960776e-03, -7.55514088e-05,  3.66855616e-04, -3.82475201e-03,\n",
        "        3.23887497e-02,  9.16059036e-04, -1.35593824e-03,  7.65485729e-03,\n",
        "       -1.15509021e-05,  7.62754669e-03, -2.53000000e-01, -1.72404139e-04,\n",
        "        2.68059594e-03, -1.41627516e-04,  5.93746195e-04]])"
      ],
      "metadata": {
        "id": "AH3akRxLg4YN"
      },
      "execution_count": null,
      "outputs": []
    },
    {
      "cell_type": "code",
      "source": [
        " new_data=np.concatenate((temp1,temp2,temp3,temp4,temp5,temp6,temp7,temp8,temp9,temp10,temp11,temp12,temp13,temp14,temp15,temp16,temp17,temp18,temp19,temp20),axis=0)"
      ],
      "metadata": {
        "id": "mnJn1s96ntqt"
      },
      "execution_count": null,
      "outputs": []
    },
    {
      "cell_type": "code",
      "source": [
        "new_data=pd.DataFrame(new_data,columns =range(1,32))"
      ],
      "metadata": {
        "id": "Td7btlXjn-jw"
      },
      "execution_count": null,
      "outputs": []
    },
    {
      "cell_type": "code",
      "source": [
        "plt.figure(figsize=(15,6))\n",
        "new_data.boxplot()\n",
        "plt.scatter(range(1,32),esti,marker='o',c='r',label='Estimated effect')\n",
        "plt.legend()"
      ],
      "metadata": {
        "colab": {
          "base_uri": "https://localhost:8080/",
          "height": 391
        },
        "id": "_1-QZTdgoCQH",
        "outputId": "05a7db3e-42b8-4ac9-e4f4-551ef451c559"
      },
      "execution_count": null,
      "outputs": [
        {
          "output_type": "execute_result",
          "data": {
            "text/plain": [
              "<matplotlib.legend.Legend at 0x7fd073042350>"
            ]
          },
          "metadata": {},
          "execution_count": 83
        },
        {
          "output_type": "display_data",
          "data": {
            "text/plain": [
              "<Figure size 1080x432 with 1 Axes>"
            ],
            "image/png": "[encoded data removed]"
          },
          "metadata": {
            "needs_background": "light"
          }
        }
      ]
    }
  ],
  "metadata": {
    "colab": {
      "name": "DL.ipynb",
      "provenance": [],
      "collapsed_sections": []
    },
    "kernelspec": {
      "display_name": "Python 3",
      "name": "python3"
    },
    "language_info": {
      "name": "python"
    }
  },
  "nbformat": 4,
  "nbformat_minor": 0
}