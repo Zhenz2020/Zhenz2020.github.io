{
  "cells": [
    {
      "cell_type": "markdown",
      "metadata": {
        "id": "ylpJ4uLa82RQ"
      },
      "source": [
        "# Overview \n",
        "\n",
        "Within this notebook, we work through using the Multilayer Perceptron Classifier (MLPC) inside of Spark's MLlib."
      ]
    },
    {
      "cell_type": "markdown",
      "metadata": {
        "id": "tM3XlZjXBuKU"
      },
      "source": [
        "### Install Dependencies\n",
        "\n",
        "Please run each code chunk in this section prior to moving forward in the notebook! "
      ]
    },
    {
      "cell_type": "code",
      "execution_count": null,
      "metadata": {
        "colab": {
          "base_uri": "https://localhost:8080/"
        },
        "id": "4tN2dKePBupP",
        "outputId": "555bb7ea-18e1-4c4a-aa58-4ab2b7edcd46"
      },
      "outputs": [
        {
          "output_type": "stream",
          "name": "stdout",
          "text": [
            "Selecting previously unselected package openjdk-8-jre-headless:amd64.\r\n",
            "(Reading database ... \r(Reading database ... 5%\r(Reading database ... 10%\r(Reading database ... 15%\r(Reading database ... 20%\r(Reading database ... 25%\r(Reading database ... 30%\r(Reading database ... 35%\r(Reading database ... 40%\r(Reading database ... 45%\r(Reading database ... 50%\r(Reading database ... 55%\r(Reading database ... 60%\r(Reading database ... 65%\r(Reading database ... 70%\r(Reading database ... 75%\r(Reading database ... 80%\r(Reading database ... 85%\r(Reading database ... 90%\r(Reading database ... 95%\r(Reading database ... 100%\r(Reading database ... 155501 files and directories currently installed.)\r\n",
            "Preparing to unpack .../openjdk-8-jre-headless_8u312-b07-0ubuntu1~18.04_amd64.deb ...\r\n",
            "Unpacking openjdk-8-jre-headless:amd64 (8u312-b07-0ubuntu1~18.04) ...\r\n",
            "Selecting previously unselected package openjdk-8-jdk-headless:amd64.\r\n",
            "Preparing to unpack .../openjdk-8-jdk-headless_8u312-b07-0ubuntu1~18.04_amd64.deb ...\r\n",
            "Unpacking openjdk-8-jdk-headless:amd64 (8u312-b07-0ubuntu1~18.04) ...\r\n",
            "Setting up openjdk-8-jre-headless:amd64 (8u312-b07-0ubuntu1~18.04) ...\r\n",
            "update-alternatives: using /usr/lib/jvm/java-8-openjdk-amd64/jre/bin/orbd to provide /usr/bin/orbd (orbd) in auto mode\r\n",
            "update-alternatives: using /usr/lib/jvm/java-8-openjdk-amd64/jre/bin/servertool to provide /usr/bin/servertool (servertool) in auto mode\r\n",
            "update-alternatives: using /usr/lib/jvm/java-8-openjdk-amd64/jre/bin/tnameserv to provide /usr/bin/tnameserv (tnameserv) in auto mode\r\n",
            "Setting up openjdk-8-jdk-headless:amd64 (8u312-b07-0ubuntu1~18.04) ...\r\n",
            "update-alternatives: using /usr/lib/jvm/java-8-openjdk-amd64/bin/idlj to provide /usr/bin/idlj (idlj) in auto mode\r\n",
            "update-alternatives: using /usr/lib/jvm/java-8-openjdk-amd64/bin/wsimport to provide /usr/bin/wsimport (wsimport) in auto mode\r\n",
            "update-alternatives: using /usr/lib/jvm/java-8-openjdk-amd64/bin/jsadebugd to provide /usr/bin/jsadebugd (jsadebugd) in auto mode\r\n",
            "update-alternatives: using /usr/lib/jvm/java-8-openjdk-amd64/bin/native2ascii to provide /usr/bin/native2ascii (native2ascii) in auto mode\r\n",
            "update-alternatives: using /usr/lib/jvm/java-8-openjdk-amd64/bin/javah to provide /usr/bin/javah (javah) in auto mode\r\n",
            "update-alternatives: using /usr/lib/jvm/java-8-openjdk-amd64/bin/hsdb to provide /usr/bin/hsdb (hsdb) in auto mode\r\n",
            "update-alternatives: using /usr/lib/jvm/java-8-openjdk-amd64/bin/clhsdb to provide /usr/bin/clhsdb (clhsdb) in auto mode\r\n",
            "update-alternatives: using /usr/lib/jvm/java-8-openjdk-amd64/bin/xjc to provide /usr/bin/xjc (xjc) in auto mode\r\n",
            "update-alternatives: using /usr/lib/jvm/java-8-openjdk-amd64/bin/schemagen to provide /usr/bin/schemagen (schemagen) in auto mode\r\n",
            "update-alternatives: using /usr/lib/jvm/java-8-openjdk-amd64/bin/extcheck to provide /usr/bin/extcheck (extcheck) in auto mode\r\n",
            "update-alternatives: using /usr/lib/jvm/java-8-openjdk-amd64/bin/jhat to provide /usr/bin/jhat (jhat) in auto mode\r\n",
            "update-alternatives: using /usr/lib/jvm/java-8-openjdk-amd64/bin/wsgen to provide /usr/bin/wsgen (wsgen) in auto mode\r\n"
          ]
        }
      ],
      "source": [
        "#@title  <-- Run Me: (Hidden) Installing Spark\n",
        "%%bash \n",
        "\n",
        "## Setup Spark on Colab\n",
        "pip install -q pyspark\n",
        "apt-get -qq install -y openjdk-8-jdk-headless\n",
        "\n",
        "## Setup port-forwarding\n",
        "\n",
        "# Download ngrok\n",
        "wget -q https://bin.equinox.io/c/4VmDzA7iaHb/ngrok-stable-linux-amd64.zip\n",
        "# Unload ngrok\n",
        "unzip -q ngrok-stable-linux-amd64.zip"
      ]
    },
    {
      "cell_type": "code",
      "execution_count": null,
      "metadata": {
        "id": "Cgpv1afWB6c8"
      },
      "outputs": [],
      "source": [
        "#@title  <-- Run Me: (Hidden) Environment Variable Setup\n",
        "import os\n",
        "os.environ[\"JAVA_HOME\"] = \"/usr/lib/jvm/java-8-openjdk-amd64\""
      ]
    },
    {
      "cell_type": "code",
      "execution_count": null,
      "metadata": {
        "id": "JayahKb8Ccni"
      },
      "outputs": [],
      "source": [
        "import pyspark \n",
        "from pyspark.sql import *\n",
        "from pyspark.sql.functions import *\n",
        "from pyspark import SparkContext, SparkConf\n",
        "\n",
        "# Set configuration scope to be local and use port 4050\n",
        "config_scope = SparkConf().set(\"spark.ui.port\", \"4050\")\n",
        "\n",
        "# Create the connection to a Spark cluster\n",
        "sc = pyspark.SparkContext(conf = config_scope)\n",
        "\n",
        "# Create a session to programmatically build Spark RDD, DataFrame and DataSet\n",
        "spark = SparkSession.builder.getOrCreate()"
      ]
    },
    {
      "cell_type": "markdown",
      "metadata": {
        "id": "HFnMvQxNgIQp"
      },
      "source": [
        "# Diagnostics"
      ]
    },
    {
      "cell_type": "code",
      "execution_count": null,
      "metadata": {
        "cellView": "form",
        "colab": {
          "base_uri": "https://localhost:8080/"
        },
        "id": "KkaEwnAoP-m6",
        "outputId": "3f8056b0-0ae8-4d35-a244-c5223757cb5b"
      },
      "outputs": [
        {
          "output_type": "stream",
          "name": "stdout",
          "text": [
            "python: 3.7.13 (default, Mar 16 2022, 17:37:17) \n",
            "[GCC 7.5.0]\n",
            "pyspark: 3.2.1\n",
            "pandas: 1.3.5\n",
            "NumPy: 1.21.6\n",
            "Notebook is on Google CoLab\n"
          ]
        }
      ],
      "source": [
        "#@title (Hidden) Diagnostic Check\n",
        "import os\n",
        "import sys\n",
        "import pandas as pd\n",
        "import numpy as np\n",
        "\n",
        "print(f\"python: {sys.version}\")\n",
        "print(f\"pyspark: {sc.version}\")\n",
        "print(f\"pandas: {pd.__version__}\")\n",
        "print(f\"NumPy: {np.__version__}\")\n",
        "\n",
        "try:\n",
        "  from google.colab import drive\n",
        "  is_google_colab = True\n",
        "\n",
        "  print(\"Notebook is on Google CoLab\")\n",
        "except:\n",
        "  is_google_colab = False\n",
        "  print(\"Notebook is being run locally or through another source.\")\n"
      ]
    },
    {
      "cell_type": "markdown",
      "metadata": {
        "id": "SP3qkSZTy0De"
      },
      "source": [
        "## Quick Neural Network"
      ]
    },
    {
      "cell_type": "markdown",
      "metadata": {
        "id": "3rj8dC3Zy34M"
      },
      "source": [
        "Many libraries exist to fit neural networks. The two most popular are [`Keras`](https://keras.io/) built ontop of [`TensorFlow`](https://tensorflow.org) and [`PyTorch`](https://pytorch.org/).\n",
        "\n"
      ]
    },
    {
      "cell_type": "markdown",
      "metadata": {
        "id": "6xjwRIwMMX_V"
      },
      "source": [
        "Consider the following network implementation in Keras."
      ]
    },
    {
      "cell_type": "code",
      "execution_count": null,
      "metadata": {
        "colab": {
          "base_uri": "https://localhost:8080/"
        },
        "id": "g1u57WKGLleD",
        "outputId": "1153605e-9ed1-4fe3-b123-9af8b696c8a5"
      },
      "outputs": [
        {
          "output_type": "stream",
          "name": "stdout",
          "text": [
            "Model: \"sequential\"\n",
            "_________________________________________________________________\n",
            " Layer (type)                Output Shape              Param #   \n",
            "=================================================================\n",
            " hidden_1 (Dense)            (None, 128)               100480    \n",
            "                                                                 \n",
            " hidden_2 (Dense)            (None, 64)                8256      \n",
            "                                                                 \n",
            " predictions (Dense)         (None, 10)                650       \n",
            "                                                                 \n",
            "=================================================================\n",
            "Total params: 109,386\n",
            "Trainable params: 109,386\n",
            "Non-trainable params: 0\n",
            "_________________________________________________________________\n"
          ]
        }
      ],
      "source": [
        "import tensorflow as tf\n",
        "from tensorflow import keras\n",
        "from tensorflow.keras import layers\n",
        "\n",
        "# Hyperparameters for our network\n",
        "input_size = 784\n",
        "hidden_sizes = [128, 64]\n",
        "output_size = 10      \n",
        "\n",
        "# Build a feed-forward network\n",
        "model = keras.Sequential([\n",
        "  keras.Input(shape = (input_size,), name = \"digits\"),\n",
        "  layers.Dense(hidden_sizes[0], activation = \"relu\", name = \"hidden_1\"),\n",
        "  layers.Dense(hidden_sizes[1], activation = \"relu\", name = \"hidden_2\"),\n",
        "  layers.Dense(output_size, activation = \"softmax\", name = \"predictions\")\n",
        "])\n",
        "\n",
        "# See model overview\n",
        "model.summary()"
      ]
    },
    {
      "cell_type": "markdown",
      "metadata": {
        "id": "gdOBbqeaMdWc"
      },
      "source": [
        "We specify the input and hidden layer size. From there, we request a non-linear activation before converting the estimate into a probability using softmax."
      ]
    },
    {
      "cell_type": "markdown",
      "metadata": {
        "id": "dl8RJBTgMSuX"
      },
      "source": [
        "We can see a similar example with PyTorch:"
      ]
    },
    {
      "cell_type": "code",
      "execution_count": null,
      "metadata": {
        "colab": {
          "base_uri": "https://localhost:8080/"
        },
        "id": "VM9JBYHwy4Le",
        "outputId": "fdbedf8f-41e1-4a31-a3da-a40868f38725"
      },
      "outputs": [
        {
          "output_type": "stream",
          "name": "stdout",
          "text": [
            "Sequential(\n",
            "  (0): Linear(in_features=784, out_features=128, bias=True)\n",
            "  (1): ReLU()\n",
            "  (2): Linear(in_features=128, out_features=64, bias=True)\n",
            "  (3): ReLU()\n",
            "  (4): Linear(in_features=64, out_features=10, bias=True)\n",
            "  (5): Softmax(dim=1)\n",
            ")\n"
          ]
        }
      ],
      "source": [
        "import torch\n",
        "import torch.nn as nn\n",
        "\n",
        "# Hyperparameters for our network\n",
        "input_size = 784\n",
        "hidden_sizes = [128, 64]\n",
        "output_size = 10      \n",
        "\n",
        "# Build a feed-forward network\n",
        "network = nn.Sequential(\n",
        "    nn.Linear(input_size, hidden_sizes[0]),\n",
        "    nn.ReLU(),\n",
        "    nn.Linear(hidden_sizes[0], hidden_sizes[1]),\n",
        "    nn.ReLU(),\n",
        "    nn.Linear(hidden_sizes[1], output_size),\n",
        "    nn.Softmax(dim=1)\n",
        "  )\n",
        "\n",
        "# Display network\n",
        "print(network)"
      ]
    },
    {
      "cell_type": "markdown",
      "metadata": {
        "id": "BGYESkoAT3WF"
      },
      "source": [
        "The notable difference is in the need to specify: input and output parameters per layer and each activation function separately compared to Keras. "
      ]
    },
    {
      "cell_type": "markdown",
      "metadata": {
        "id": "P4o6KiLSy4tn"
      },
      "source": [
        "## MLlib's Multilayer Perceptron Classifier (MLPC)\n",
        "\n",
        "Spark has a multi-layer perceptron version inside of MLlib under `pyspark.ml` accessible with [`MultilayerPerceptronClassifier`](https://spark.apache.org/docs/latest/ml-classification-regression.html#multilayer-perceptron-classifier)."
      ]
    },
    {
      "cell_type": "code",
      "execution_count": null,
      "metadata": {
        "id": "OE24Rmidw0TU"
      },
      "outputs": [],
      "source": [
        "from pyspark.ml.classification import MultilayerPerceptronClassifier\n",
        "from pyspark.ml.evaluation import MulticlassClassificationEvaluator"
      ]
    },
    {
      "cell_type": "markdown",
      "metadata": {
        "id": "FA5Jl-wLzEIc"
      },
      "source": [
        "Unlike the Keras and PyTorch equivalent, here we need to specify only the layer shapes. The activation function between intermediary layers will always be the sigmoid, $\\sigma(z) = \\frac{1}{1 + \\exp{(-z)}}$, and the final activation function is $\\text{softmax}(\\mathbf{z}) = \\frac{\\exp{(z_i)}}{\\sum_{j=1}^{k} \\exp{(z_j)} }$. \n"
      ]
    },
    {
      "cell_type": "code",
      "execution_count": null,
      "metadata": {
        "colab": {
          "base_uri": "https://localhost:8080/"
        },
        "id": "9bgduM2XSPia",
        "outputId": "889f45d0-28af-49b3-8364-76cf840339ab"
      },
      "outputs": [
        {
          "output_type": "stream",
          "name": "stdout",
          "text": [
            "Mounted at /content/drive\n"
          ]
        }
      ],
      "source": [
        "from google.colab import drive\n",
        "drive.mount('/content/drive')"
      ]
    },
    {
      "cell_type": "markdown",
      "metadata": {
        "id": "1JhB8Paw0b38"
      },
      "source": [
        "### Read-in Train Data\n",
        "\n",
        "Next, we can read in the data to Spark with:"
      ]
    },
    {
      "cell_type": "code",
      "execution_count": null,
      "metadata": {
        "colab": {
          "base_uri": "https://localhost:8080/"
        },
        "id": "HBkEnW_TxVWT",
        "outputId": "6a9344c6-1656-41f0-df21-e13dd8600901"
      },
      "outputs": [
        {
          "output_type": "stream",
          "name": "stdout",
          "text": [
            "root\n",
            " |-- label: integer (nullable = true)\n",
            " |-- uid: integer (nullable = true)\n",
            " |-- task_id: integer (nullable = true)\n",
            " |-- adv_id: integer (nullable = true)\n",
            " |-- creat_type_cd: integer (nullable = true)\n",
            " |-- adv_prim_id: integer (nullable = true)\n",
            " |-- dev_id: integer (nullable = true)\n",
            " |-- inter_type_cd: integer (nullable = true)\n",
            " |-- slot_id: integer (nullable = true)\n",
            " |-- spread_app_id: integer (nullable = true)\n",
            " |-- tags: integer (nullable = true)\n",
            " |-- app_first_class: integer (nullable = true)\n",
            " |-- app_second_class: integer (nullable = true)\n",
            " |-- age: integer (nullable = true)\n",
            " |-- city: integer (nullable = true)\n",
            " |-- city_rank: integer (nullable = true)\n",
            " |-- device_name: integer (nullable = true)\n",
            " |-- device_size: integer (nullable = true)\n",
            " |-- career: integer (nullable = true)\n",
            " |-- gender: integer (nullable = true)\n",
            " |-- net_type: integer (nullable = true)\n",
            " |-- residence: integer (nullable = true)\n",
            " |-- his_app_size: integer (nullable = true)\n",
            " |-- his_on_shelf_time: integer (nullable = true)\n",
            " |-- app_score: integer (nullable = true)\n",
            " |-- emui_dev: integer (nullable = true)\n",
            " |-- list_time: integer (nullable = true)\n",
            " |-- device_price: integer (nullable = true)\n",
            " |-- up_life_duration: integer (nullable = true)\n",
            " |-- up_membership_grade: integer (nullable = true)\n",
            " |-- membership_life_duration: integer (nullable = true)\n",
            " |-- consume_purchase: integer (nullable = true)\n",
            " |-- communication_onlinerate: string (nullable = true)\n",
            " |-- communication_avgonline_30d: integer (nullable = true)\n",
            " |-- indu_name: integer (nullable = true)\n",
            " |-- pt_d: integer (nullable = true)\n",
            "\n"
          ]
        }
      ],
      "source": [
        "raw_train_data = spark.read.option(\"delimiter\", \"|\").options(header = True, inferSchema = True).csv(\"/content/drive/MyDrive/train_data.csv\")\n",
        "raw_train_data.printSchema()"
      ]
    },
    {
      "cell_type": "code",
      "source": [
        "raw_train_data.count()"
      ],
      "metadata": {
        "colab": {
          "base_uri": "https://localhost:8080/"
        },
        "id": "94j0qmIWqkhG",
        "outputId": "87893a58-e4ce-498b-a964-1e6c6ff55cde"
      },
      "execution_count": null,
      "outputs": [
        {
          "output_type": "execute_result",
          "data": {
            "text/plain": [
              "41907133"
            ]
          },
          "metadata": {},
          "execution_count": 10
        }
      ]
    },
    {
      "cell_type": "code",
      "source": [
        "raw_train_data.filter(train.label==1).count()"
      ],
      "metadata": {
        "colab": {
          "base_uri": "https://localhost:8080/"
        },
        "id": "sQS_oo0jAYv9",
        "outputId": "bfe5fe65-fcc3-4733-8447-54fd6895ffc9"
      },
      "execution_count": null,
      "outputs": [
        {
          "output_type": "execute_result",
          "data": {
            "text/plain": [
              "1445488"
            ]
          },
          "metadata": {},
          "execution_count": 13
        }
      ]
    },
    {
      "cell_type": "code",
      "source": [
        "raw_train_data.filter(train.label==0).count()"
      ],
      "metadata": {
        "colab": {
          "base_uri": "https://localhost:8080/"
        },
        "id": "XEHZ8LalAa1u",
        "outputId": "73fbcd7f-a79c-4c9c-9f1c-8ad0cc746a0a"
      },
      "execution_count": null,
      "outputs": [
        {
          "output_type": "execute_result",
          "data": {
            "text/plain": [
              "40461645"
            ]
          },
          "metadata": {},
          "execution_count": 14
        }
      ]
    },
    {
      "cell_type": "markdown",
      "metadata": {
        "id": "PDQ_czNjZFF9"
      },
      "source": [
        "Let's take a look at the first five observations in training:"
      ]
    },
    {
      "cell_type": "code",
      "execution_count": null,
      "metadata": {
        "id": "iukGX3kSSz33"
      },
      "outputs": [],
      "source": [
        "#a,b = raw_train_data.randomSplit([0.2, 0.8])\n",
        "train, test=raw_train_data.randomSplit([0.7, 0.3])"
      ]
    },
    {
      "cell_type": "code",
      "execution_count": null,
      "metadata": {
        "colab": {
          "base_uri": "https://localhost:8080/"
        },
        "id": "FgXUcstBSvdy",
        "outputId": "bfe8b71d-a692-4db7-efaf-8c968424b9b6"
      },
      "outputs": [
        {
          "output_type": "stream",
          "name": "stdout",
          "text": [
            "+-----+-------+-------+------+-------------+-----------+------+-------------+-------+-------------+----+---------------+----------------+---+----+---------+-----------+-----------+------+------+--------+---------+------------+-----------------+---------+--------+---------+------------+----------------+-------------------+------------------------+----------------+------------------------+---------------------------+---------+----+\n",
            "|label|    uid|task_id|adv_id|creat_type_cd|adv_prim_id|dev_id|inter_type_cd|slot_id|spread_app_id|tags|app_first_class|app_second_class|age|city|city_rank|device_name|device_size|career|gender|net_type|residence|his_app_size|his_on_shelf_time|app_score|emui_dev|list_time|device_price|up_life_duration|up_membership_grade|membership_life_duration|consume_purchase|communication_onlinerate|communication_avgonline_30d|indu_name|pt_d|\n",
            "+-----+-------+-------+------+-------------+-----------+------+-------------+-------+-------------+----+---------------+----------------+---+----+---------+-----------+-----------+------+------+--------+---------+------------+-----------------+---------+--------+---------+------------+----------------+-------------------+------------------------+----------------+------------------------+---------------------------+---------+----+\n",
            "|    0|1000012|   1731|  3724|            7|        142|    36|            5|     11|           80|  41|              4|              26|  5| 262|        5|         38|        162|     4|     4|       2|       46|           5|                3|        2|      14|        4|           4|               4|                 -1|                      -1|               2|    0^1^2^3^4^5^6^7^8...|                         13|       42|   1|\n",
            "|    0|1000014|   3254|  4834|            6|        132|    60|            3|     16|           78|  23|              2|              23|  4| 380|        5|        104|        141|     4|     2|       3|       12|          -1|               -1|        1|      20|       14|           5|              18|                 -1|                      -1|              10|    0^1^2^3^4^5^6^7^8...|                         13|       47|   1|\n",
            "|    0|1000046|   1949|  6143|            7|        150|    17|            5|     21|           11|  39|              4|              17|  5| 223|        4|        103|        141|     4|     4|       2|       37|           6|                3|        2|      19|       12|           2|              -1|                 -1|                      -1|               2|    0^1^2^3^4^5^6^7^8...|                         13|       36|   1|\n",
            "|    0|1000055|   1318|  3047|            2|        142|    36|            5|     11|           80|  41|              4|              26|  4| 187|        4|         32|        141|     4|     4|       2|       37|           5|                3|        2|      20|        4|           5|              18|                 -1|                      -1|               2|    0^1^2^3^4^5^6^7^8...|                         13|       42|   1|\n",
            "|    0|1000057|   2727|  1664|            7|        130|    30|            5|     16|           28|  39|              4|              17|  3| 269|        3|         56|        141|     2|     2|       2|       19|           6|                2|        2|      14|        8|           4|              -1|                 -1|                      -1|               2|    6^7^8^9^10^11^12^...|                         10|       36|   1|\n",
            "+-----+-------+-------+------+-------------+-----------+------+-------------+-------+-------------+----+---------------+----------------+---+----+---------+-----------+-----------+------+------+--------+---------+------------+-----------------+---------+--------+---------+------------+----------------+-------------------+------------------------+----------------+------------------------+---------------------------+---------+----+\n",
            "only showing top 5 rows\n",
            "\n"
          ]
        }
      ],
      "source": [
        "train.show(5)"
      ]
    },
    {
      "cell_type": "code",
      "execution_count": null,
      "metadata": {
        "colab": {
          "base_uri": "https://localhost:8080/"
        },
        "id": "T8W-an1aQkNO",
        "outputId": "abfe0ece-fd97-4e28-89a3-363e1532bcc3"
      },
      "outputs": [
        {
          "data": {
            "text/plain": [
              "201820"
            ]
          },
          "execution_count": 23,
          "metadata": {},
          "output_type": "execute_result"
        }
      ],
      "source": [
        "train.filter(train.label==1).count()"
      ]
    },
    {
      "cell_type": "code",
      "execution_count": null,
      "metadata": {
        "colab": {
          "background_save": true
        },
        "id": "Xo1uvurtXuC4",
        "outputId": "3b0a5c4a-163f-4815-98b9-c1850f864001"
      },
      "outputs": [
        {
          "data": {
            "text/plain": [
              "5664722"
            ]
          },
          "execution_count": null,
          "metadata": {},
          "output_type": "execute_result"
        }
      ],
      "source": [
        "train.filter(train.label==0).count()"
      ]
    },
    {
      "cell_type": "markdown",
      "metadata": {
        "id": "KKWIeGmrYtXA"
      },
      "source": [
        "Notice, the data is stored by `_c{0-784}`. The data starts with `_c{0}` being the label and the features going from `_c{1}` to `_c{784}`. We can use a vector assembler to create a pair of the features and label."
      ]
    },
    {
      "cell_type": "code",
      "execution_count": null,
      "metadata": {
        "id": "sHZGp6XmYt3U"
      },
      "outputs": [],
      "source": [
        "from pyspark.ml.feature import VectorAssembler\n",
        "\n",
        "\n",
        "# Apply the transformation and rename columns\n",
        "id_df = train.select(\"uid\", \"task_id\",\"adv_id\")\n",
        "train_df=train.drop(\"uid\", \"task_id\",\"adv_id\",\"communication_onlinerate\")"
      ]
    },
    {
      "cell_type": "code",
      "execution_count": null,
      "metadata": {
        "id": "3bvP_Pyuc4mc"
      },
      "outputs": [],
      "source": [
        "# Dynamically generate name of columns\n",
        "vecAssembler = VectorAssembler(\n",
        "    inputCols = train_df.columns[1:],\n",
        "    outputCol = \"features\")\n",
        "\n",
        "# Apply the transformation\n",
        "vec_data = vecAssembler.transform(train_df)\n",
        "train_data_new=vec_data.select(\"label\",\"features\")\n"
      ]
    },
    {
      "cell_type": "code",
      "execution_count": null,
      "metadata": {
        "colab": {
          "base_uri": "https://localhost:8080/"
        },
        "id": "GdQBZEJ5hAcc",
        "outputId": "0c764928-2384-47cb-dcab-8a6a181607bf"
      },
      "outputs": [
        {
          "output_type": "stream",
          "name": "stdout",
          "text": [
            "+-----+--------------------+\n",
            "|label|            features|\n",
            "+-----+--------------------+\n",
            "|    0|[6.0,132.0,60.0,3...|\n",
            "|    0|[2.0,142.0,36.0,5...|\n",
            "|    0|[8.0,142.0,36.0,5...|\n",
            "|    0|[3.0,142.0,36.0,5...|\n",
            "|    0|[7.0,207.0,17.0,5...|\n",
            "+-----+--------------------+\n",
            "only showing top 5 rows\n",
            "\n"
          ]
        }
      ],
      "source": [
        "train_data_new.show(5)"
      ]
    },
    {
      "cell_type": "markdown",
      "metadata": {
        "id": "2BkgcK3tuv2B"
      },
      "source": [
        "Test data set"
      ]
    },
    {
      "cell_type": "code",
      "execution_count": null,
      "metadata": {
        "id": "_ZOhT3I3uvdH"
      },
      "outputs": [],
      "source": [
        "\n",
        "id_df_test = test.select(\"uid\", \"task_id\",\"adv_id\")\n",
        "test_df=test.drop(\"uid\", \"task_id\",\"adv_id\",\"communication_onlinerate\")\n"
      ]
    },
    {
      "cell_type": "code",
      "execution_count": null,
      "metadata": {
        "id": "b1mc3PduvHh_"
      },
      "outputs": [],
      "source": [
        "# Dynamically generate name of columns\n",
        "vecAssembler = VectorAssembler(\n",
        "    inputCols = test_df.columns[1:],\n",
        "    outputCol = \"features\")\n",
        "\n",
        "# Apply the transformation\n",
        "vec_data = vecAssembler.transform(test_df)\n",
        "test_data_new=vec_data.select(\"label\",\"features\")"
      ]
    },
    {
      "cell_type": "code",
      "execution_count": null,
      "metadata": {
        "colab": {
          "base_uri": "https://localhost:8080/"
        },
        "id": "ZH56OXHGQ5zZ",
        "outputId": "f5770b5b-d53d-46bf-a0f2-5b50c35cd4ee"
      },
      "outputs": [
        {
          "name": "stdout",
          "output_type": "stream",
          "text": [
            "+-----+--------------------+\n",
            "|label|            features|\n",
            "+-----+--------------------+\n",
            "|    0|[7.0,156.0,56.0,5...|\n",
            "|    0|[7.0,207.0,17.0,5...|\n",
            "|    0|[7.0,206.0,64.0,5...|\n",
            "|    0|[7.0,156.0,56.0,5...|\n",
            "|    0|[7.0,168.0,37.0,5...|\n",
            "+-----+--------------------+\n",
            "only showing top 5 rows\n",
            "\n"
          ]
        }
      ],
      "source": [
        "test_data_new.show(5)"
      ]
    },
    {
      "cell_type": "markdown",
      "metadata": {
        "id": "_UdNNnU7Ys7a"
      },
      "source": [
        "### Undersampling"
      ]
    },
    {
      "cell_type": "code",
      "execution_count": null,
      "metadata": {
        "id": "Z61JBM_XYr2X"
      },
      "outputs": [],
      "source": [
        "train1DF = train_data_new.where(\"label=1\")\n",
        "ONumber = train1DF.count()\n",
        "train0DF = train_data_new.where(\"label=0\")\n",
        "ZNumber = train0DF.count()\n",
        "\n"
      ]
    },
    {
      "cell_type": "code",
      "execution_count": null,
      "metadata": {
        "id": "JKnb9TRBZVXJ"
      },
      "outputs": [],
      "source": [
        "ratio = ONumber/(ZNumber)\n",
        "sampleNormalDF = train0DF.sample(False, ratio, 10)\n",
        "underDF = train1DF.union(sampleNormalDF)"
      ]
    },
    {
      "cell_type": "code",
      "execution_count": null,
      "metadata": {
        "colab": {
          "base_uri": "https://localhost:8080/"
        },
        "id": "g3E5Mf_QcLqF",
        "outputId": "2edd85c2-e8e5-4f9c-9209-a10f61d023d0"
      },
      "outputs": [
        {
          "name": "stdout",
          "output_type": "stream",
          "text": [
            "+-----+--------------------+\n",
            "|label|            features|\n",
            "+-----+--------------------+\n",
            "|    1|[7.0,206.0,64.0,5...|\n",
            "|    1|[3.0,210.0,70.0,4...|\n",
            "|    1|[7.0,104.0,37.0,5...|\n",
            "|    1|[7.0,183.0,29.0,5...|\n",
            "|    1|[3.0,210.0,70.0,4...|\n",
            "+-----+--------------------+\n",
            "only showing top 5 rows\n",
            "\n"
          ]
        }
      ],
      "source": [
        "underDF.show(5)"
      ]
    },
    {
      "cell_type": "code",
      "execution_count": null,
      "metadata": {
        "colab": {
          "base_uri": "https://localhost:8080/"
        },
        "id": "KIBKomYpctEB",
        "outputId": "f49e8b1d-11ba-4ff0-8500-eaf451965ed9"
      },
      "outputs": [
        {
          "data": {
            "text/plain": [
              "406193"
            ]
          },
          "execution_count": 25,
          "metadata": {},
          "output_type": "execute_result"
        }
      ],
      "source": [
        "underDF.count()"
      ]
    },
    {
      "cell_type": "code",
      "execution_count": null,
      "metadata": {
        "colab": {
          "base_uri": "https://localhost:8080/"
        },
        "id": "2CeyaPxGeM2_",
        "outputId": "9998a982-e8ac-4f10-c902-92405bdcdfae"
      },
      "outputs": [
        {
          "data": {
            "text/plain": [
              "202637"
            ]
          },
          "execution_count": 26,
          "metadata": {},
          "output_type": "execute_result"
        }
      ],
      "source": [
        "underDF.where(\"label=1\").count()"
      ]
    },
    {
      "cell_type": "code",
      "execution_count": null,
      "metadata": {
        "colab": {
          "base_uri": "https://localhost:8080/"
        },
        "id": "pLkV3o9YeZtr",
        "outputId": "ca4a07a4-ddc9-4737-d10e-6f46baf51fc3"
      },
      "outputs": [
        {
          "data": {
            "text/plain": [
              "203556"
            ]
          },
          "execution_count": 27,
          "metadata": {},
          "output_type": "execute_result"
        }
      ],
      "source": [
        "underDF.where(\"label=0\").count()"
      ]
    },
    {
      "cell_type": "markdown",
      "metadata": {
        "id": "LbcwE1f9dG8b"
      },
      "source": [
        "### Network: MLPC"
      ]
    },
    {
      "cell_type": "markdown",
      "metadata": {
        "id": "awNT-b8bxqLt"
      },
      "source": [
        "Next, let's setup an MLPC that can handle the 784 features across four hidden layers."
      ]
    },
    {
      "cell_type": "code",
      "execution_count": null,
      "metadata": {
        "id": "bp0emIImxqhk"
      },
      "outputs": [],
      "source": [
        "from pyspark.ml.classification import MultilayerPerceptronClassifier\n",
        "\n",
        "# Specify layers for the neural network:\n",
        "# 1. input layer of size 784 (features),\n",
        "# 2. one intermediate layer of size 128; and,\n",
        "# 3. output of size 10 (classes)\n",
        "layers = [31, 30,40, 2]\n",
        "\n",
        "mlpc = MultilayerPerceptronClassifier(\n",
        "  maxIter = 150, \n",
        "  layers = layers,\n",
        "  blockSize = 20,\n",
        "  #stepSize = 0.10, \n",
        "  seed = 1337,\n",
        "  solver = \"gd\")\n"
      ]
    },
    {
      "cell_type": "markdown",
      "metadata": {
        "id": "oYXzg1705beE"
      },
      "source": [
        "Once our MLPC is setup with the appropriate layer structure and options, we can train the model using `.fit()`:"
      ]
    },
    {
      "cell_type": "code",
      "execution_count": null,
      "metadata": {
        "id": "DB6yFoPG5bNe"
      },
      "outputs": [],
      "source": [
        "network = mlpc.fit(underDF)"
      ]
    },
    {
      "cell_type": "markdown",
      "metadata": {
        "id": "QWeKQjda5jYW"
      },
      "source": [
        "Next, we aim to evaluate the performance by computing the accuracy metric."
      ]
    },
    {
      "cell_type": "code",
      "execution_count": null,
      "metadata": {
        "colab": {
          "base_uri": "https://localhost:8080/"
        },
        "id": "jKdmpiPfyt3C",
        "outputId": "431035c3-043b-4388-b142-857d9f4d2014"
      },
      "outputs": [
        {
          "output_type": "stream",
          "name": "stdout",
          "text": [
            "Test set accuracy: 0.62\n"
          ]
        }
      ],
      "source": [
        "from pyspark.ml.evaluation import MulticlassClassificationEvaluator\n",
        "\n",
        "\n",
        "result = network.transform(test_data_new)\n",
        "prediction_with_labels = result.select(\"prediction\", \"label\")\n",
        "evaluator = MulticlassClassificationEvaluator(metricName = \"accuracy\")\n",
        "\n",
        "network_acc = evaluator.evaluate(prediction_with_labels)\n",
        "print(f\"Test set accuracy: {network_acc:0.2f}\")\n"
      ]
    },
    {
      "cell_type": "code",
      "execution_count": null,
      "metadata": {
        "colab": {
          "base_uri": "https://localhost:8080/"
        },
        "id": "AcnX962r5jgG",
        "outputId": "099bd09a-e253-4fba-db56-941196343874"
      },
      "outputs": [
        {
          "name": "stdout",
          "output_type": "stream",
          "text": [
            "+-----+--------------------+--------------------+--------------------+----------+\n",
            "|label|            features|       rawPrediction|         probability|prediction|\n",
            "+-----+--------------------+--------------------+--------------------+----------+\n",
            "|    0|[7.0,156.0,56.0,5...|[-0.5250515385202...|[0.50136961129713...|       0.0|\n",
            "|    0|[7.0,207.0,17.0,5...|[-0.6578736716521...|[0.50164343734824...|       0.0|\n",
            "|    0|[7.0,206.0,64.0,5...|[-0.2615188121113...|[0.51410022654499...|       0.0|\n",
            "|    0|[7.0,156.0,56.0,5...|[-0.7172610129682...|[0.40749783285364...|       1.0|\n",
            "|    0|[7.0,168.0,37.0,5...|[-0.8060250302456...|[0.36511704098743...|       1.0|\n",
            "|    0|[8.0,142.0,60.0,5...|[-0.2615188102113...|[0.51410090704760...|       0.0|\n",
            "|    0|[7.0,128.0,60.0,4...|[-0.2615188102001...|[0.51410090450166...|       0.0|\n",
            "|    0|[7.0,128.0,60.0,4...|[-0.2615188101551...|[0.51410090705154...|       0.0|\n",
            "|    0|[7.0,128.0,60.0,4...|[-0.2615200605547...|[0.51410084667351...|       0.0|\n",
            "|    0|[7.0,142.0,36.0,5...|[-0.2605904331743...|[0.51420395926378...|       0.0|\n",
            "+-----+--------------------+--------------------+--------------------+----------+\n",
            "only showing top 10 rows\n",
            "\n"
          ]
        }
      ],
      "source": [
        "result.show(10)"
      ]
    },
    {
      "cell_type": "markdown",
      "metadata": {
        "id": "3ZXO1TmU0Dos"
      },
      "source": [
        "layers = [31, 30, 2], maxIter = 150, blockSize = 10, accuracy: 0.74\n",
        "---\n",
        "layers = [31, 30, 2], maxIter = 150, blockSize = 30, accuracy: 0.74\n",
        "---\n",
        "layers = [31, 60,30, 2], maxIter = 150, blockSize = 60, accuracy: 0.43\n",
        "---\n",
        "layers = [31, 30,60, 2]， maxIter = 150, blockSize = 20, accuracy: 0.7\n",
        "---\n",
        "layers = [31, 30,30, 2]， maxIter = 150, blockSize = 20, accuracy: 0.25\n",
        "---\n",
        "layers = [31, 30,40, 2]， maxIter = 150, blockSize = 20, accuracy: 0.62\n",
        "---\n",
        "layers = [31, 60, 2], maxIter = 150, blockSize = 60, accuracy: 0.6\n",
        "---\n",
        "layers = [31, 40, 2], maxIter = 150, blockSize = 40, accuracy: 0.55\n",
        "---\n",
        "layers = [31, 40, 2], maxIter = 150, blockSize = 20, accuracy: 0.55\n",
        "---\n",
        "layers = [31, 20, 2], maxIter = 150, blockSize = 20, accuracy: 0.55\n",
        "---\n",
        "layers = [31, 50, 2], maxIter = 150, blockSize = 20, accuracy: 0.67\n",
        "---"
      ]
    },
    {
      "cell_type": "markdown",
      "metadata": {
        "id": "u3H8U84UhS-O"
      },
      "source": [
        "We can further breakdown the metric by looking at the classification by class. To do so, we need to first create a dummy variable that checks if the prediction matches the true label. "
      ]
    },
    {
      "cell_type": "code",
      "execution_count": null,
      "metadata": {
        "colab": {
          "base_uri": "https://localhost:8080/"
        },
        "id": "n41IVmUhhTs-",
        "outputId": "577675a2-11b5-4558-ba20-59f173a29564"
      },
      "outputs": [
        {
          "name": "stdout",
          "output_type": "stream",
          "text": [
            "+----------+-----+-------+\n",
            "|prediction|label|matched|\n",
            "+----------+-----+-------+\n",
            "|       0.0|    0|      1|\n",
            "|       0.0|    0|      1|\n",
            "|       0.0|    0|      1|\n",
            "|       0.0|    0|      1|\n",
            "|       0.0|    0|      1|\n",
            "|       0.0|    0|      1|\n",
            "|       0.0|    0|      1|\n",
            "|       0.0|    0|      1|\n",
            "|       0.0|    0|      1|\n",
            "|       0.0|    0|      1|\n",
            "+----------+-----+-------+\n",
            "only showing top 10 rows\n",
            "\n"
          ]
        }
      ],
      "source": [
        "# Check if prediction matches\n",
        "check_predictions = prediction_with_labels\\\n",
        "  .withColumn(\"matched\", expr(\"label == prediction\"))\\\n",
        "  .withColumn(\"matched\", expr(\"cast(matched as int)\"))\n",
        "\n",
        "check_predictions.show(10)"
      ]
    },
    {
      "cell_type": "markdown",
      "metadata": {
        "id": "kLQUrwmPjDQB"
      },
      "source": [
        "Finally, we can show the accuracy by class using:"
      ]
    },
    {
      "cell_type": "code",
      "execution_count": null,
      "metadata": {
        "colab": {
          "base_uri": "https://localhost:8080/"
        },
        "id": "CwFqNqR6jCUT",
        "outputId": "abbb1b9b-d5ed-4587-85e2-83f1c3aa0dad"
      },
      "outputs": [
        {
          "name": "stdout",
          "output_type": "stream",
          "text": [
            "+-----+--------+\n",
            "|label|ClassAvg|\n",
            "+-----+--------+\n",
            "|    0|     1.0|\n",
            "|    1|     0.0|\n",
            "+-----+--------+\n",
            "\n"
          ]
        }
      ],
      "source": [
        "accuracy_by_class = check_predictions.groupby(\"label\")\\\n",
        " .agg(avg(\"matched\").alias(\"ClassAvg\"))\\\n",
        " .orderBy(\"label\")\n",
        "\n",
        "accuracy_by_class.show()"
      ]
    },
    {
      "cell_type": "markdown",
      "metadata": {
        "id": "xKNtMJrymJkB"
      },
      "source": [
        "We can improve our communication by visualizing the class specific accuracies with a bar plot!"
      ]
    },
    {
      "cell_type": "code",
      "execution_count": null,
      "metadata": {
        "colab": {
          "base_uri": "https://localhost:8080/",
          "height": 279
        },
        "id": "dkhCEdrBju8V",
        "outputId": "3c9c8a8d-b8a5-4f5c-fdfa-3cd38bfdbce5"
      },
      "outputs": [
        {
          "data": {
            "image/png": "[encoded data removed]",
            "text/plain": [
              "<Figure size 432x288 with 1 Axes>"
            ]
          },
          "metadata": {},
          "output_type": "display_data"
        }
      ],
      "source": [
        "import seaborn as sns\n",
        "\n",
        "# Convert the accuracy data frame to Pandas\n",
        "acc_class_pandas_df = accuracy_by_class.toPandas()\n",
        "\n",
        "# Construct a barplot\n",
        "sns.barplot(\n",
        "  x = \"label\", y = \"ClassAvg\", \n",
        "  data = acc_class_pandas_df\n",
        ");"
      ]
    },
    {
      "cell_type": "markdown",
      "source": [
        "### Gradient-boosted tree classifier"
      ],
      "metadata": {
        "id": "ZKj12fwPb22h"
      }
    },
    {
      "cell_type": "code",
      "source": [
        "from pyspark.ml.classification import GBTClassifier\n",
        "gbt = GBTClassifier(labelCol=\"label\", featuresCol=\"features\", maxIter=20,featureSubsetStrategy=\"auto\")"
      ],
      "metadata": {
        "id": "4qBIMoBXb2Q4"
      },
      "execution_count": null,
      "outputs": []
    },
    {
      "cell_type": "code",
      "source": [
        "from pyspark.ml import Pipeline\n",
        "pipeline = Pipeline(stages=[gbt])\n",
        "  \n",
        "model = pipeline.fit(underDF)\n",
        "prediction = model.transform(test_data_new)\n",
        "prediction.printSchema()"
      ],
      "metadata": {
        "colab": {
          "base_uri": "https://localhost:8080/"
        },
        "id": "1PIqG0Zgb2XQ",
        "outputId": "33a0ef0c-91f2-4d89-8856-c52b569586e4"
      },
      "execution_count": null,
      "outputs": [
        {
          "output_type": "stream",
          "name": "stdout",
          "text": [
            "root\n",
            " |-- label: integer (nullable = true)\n",
            " |-- features: vector (nullable = true)\n",
            " |-- rawPrediction: vector (nullable = true)\n",
            " |-- probability: vector (nullable = true)\n",
            " |-- prediction: double (nullable = false)\n",
            "\n"
          ]
        }
      ]
    },
    {
      "cell_type": "code",
      "source": [
        "binEval = MulticlassClassificationEvaluator().setMetricName(\"accuracy\").setPredictionCol(\"prediction\").setLabelCol(\"label\")\n",
        "    \n",
        "binEval.evaluate(prediction)"
      ],
      "metadata": {
        "colab": {
          "base_uri": "https://localhost:8080/"
        },
        "id": "0H8nKjkkb2ZU",
        "outputId": "a385b6cf-a27f-4680-c660-0439a685811d"
      },
      "execution_count": null,
      "outputs": [
        {
          "output_type": "execute_result",
          "data": {
            "text/plain": [
              "0.6967229536348025"
            ]
          },
          "metadata": {},
          "execution_count": 25
        }
      ]
    },
    {
      "cell_type": "markdown",
      "source": [
        "max=10, 0.7089\n",
        "\n",
        "max=20, 0.6967"
      ],
      "metadata": {
        "id": "LZi8t8prquzK"
      }
    },
    {
      "cell_type": "markdown",
      "source": [
        "\n",
        "\n",
        "### Linear Support Vector Machine"
      ],
      "metadata": {
        "id": "OI_bv3fDp5S1"
      }
    },
    {
      "cell_type": "code",
      "source": [
        "from pyspark.ml.classification import LinearSVC"
      ],
      "metadata": {
        "id": "otP2Ioh0p_cC"
      },
      "execution_count": null,
      "outputs": []
    },
    {
      "cell_type": "code",
      "source": [
        "lsvc = LinearSVC().setMaxIter(10).setRegParam(0.01)\n",
        "lsvcModel = lsvc.fit(underDF)"
      ],
      "metadata": {
        "id": "yJ3OHbWp0xb1"
      },
      "execution_count": null,
      "outputs": []
    },
    {
      "cell_type": "code",
      "source": [
        "prediction = lsvcModel.transform(test_data_new)\n",
        "binEval = MulticlassClassificationEvaluator().setMetricName(\"accuracy\").setPredictionCol(\"prediction\").setLabelCol(\"label\")\n",
        "binEval.evaluate(prediction)"
      ],
      "metadata": {
        "colab": {
          "base_uri": "https://localhost:8080/"
        },
        "id": "6-VVzeof0_ti",
        "outputId": "b322c5cc-3af7-4f0c-81f7-e9e3c87995f7"
      },
      "execution_count": null,
      "outputs": [
        {
          "output_type": "execute_result",
          "data": {
            "text/plain": [
              "0.5961851268841825"
            ]
          },
          "metadata": {},
          "execution_count": 36
        }
      ]
    },
    {
      "cell_type": "markdown",
      "source": [
        "max=10, setRegParam=0.01, accuracy=0.596\n",
        "\n",
        "max=10, setRegParam=0.05, accuracy=0.588\n",
        "\n",
        "max=10, setRegParam=0.1, accuracy=0.572\n",
        "\n",
        "max=10, setRegParam=0.2, accuracy=0.5326"
      ],
      "metadata": {
        "id": "0YQJnhs3AL7q"
      }
    },
    {
      "cell_type": "markdown",
      "source": [
        "### Random forest classifier"
      ],
      "metadata": {
        "id": "dycw5u8Xsxd7"
      }
    },
    {
      "cell_type": "code",
      "source": [
        "from pyspark.ml.classification import RandomForestClassifier\n",
        "\n",
        "rf = RandomForestClassifier(featuresCol = 'features', labelCol = 'label')\n",
        "rfModel = rf.fit(underDF)\n",
        "predictions = rfModel.transform(test_data_new)"
      ],
      "metadata": {
        "id": "aeGbmRtnsxxL"
      },
      "execution_count": null,
      "outputs": []
    },
    {
      "cell_type": "code",
      "source": [
        "binEval = MulticlassClassificationEvaluator().setMetricName(\"accuracy\").setPredictionCol(\"prediction\").setLabelCol(\"label\")\n",
        "binEval.evaluate(predictions)"
      ],
      "metadata": {
        "colab": {
          "base_uri": "https://localhost:8080/"
        },
        "id": "IxXlTNELsxzi",
        "outputId": "5efdae49-fc5f-49c9-9bf2-fb3fa5d575ef"
      },
      "execution_count": null,
      "outputs": [
        {
          "output_type": "execute_result",
          "data": {
            "text/plain": [
              "0.6933246676842841"
            ]
          },
          "metadata": {},
          "execution_count": 39
        }
      ]
    },
    {
      "cell_type": "markdown",
      "source": [
        "accuracy=0.6933"
      ],
      "metadata": {
        "id": "xgl5pPZI5b4v"
      }
    }
  ],
  "metadata": {
    "accelerator": "GPU",
    "colab": {
      "collapsed_sections": [],
      "name": "Stat480-project.ipynb",
      "provenance": []
    },
    "kernelspec": {
      "display_name": "Python 3",
      "name": "python3"
    },
    "language_info": {
      "name": "python"
    }
  },
  "nbformat": 4,
  "nbformat_minor": 0
}